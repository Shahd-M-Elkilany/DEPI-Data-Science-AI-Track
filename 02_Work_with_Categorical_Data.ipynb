{
 "cells": [
  {
   "cell_type": "markdown",
   "metadata": {
    "id": "9PAf2scBEQxR"
   },
   "source": [
    "# Work with categorical Data\n",
    "\n",
    "Machine Learning algorithms require that input data must be in numerical format. Only then the algorithms work successfully on them. So, the text data must be converted into numbers before they are fed into an algorithm.\n",
    "\n",
    "as we said before Categorical data can be **Ordinal** or **Nominal**\n",
    "\n",
    "\n",
    "### Ordinal variable\n",
    "can be understood as categorical values that can be sorted or ordered. For example, T-shirt size would be an ordinal feature, because we can define an order XL > L > M.\n",
    "\n",
    "\n",
    "### Nominal variable\n",
    "nominal features don't imply any order and, to continue with the previous example, we could think of T-shirt color as a nominal feature since it typically doesn't make sense to say that, for example, red is larger than blue.\n",
    "\n",
    "\n",
    "\n",
    "\n",
    "## Table of Contents\n",
    "1. Work with Ordinal Features with pandas `map` method.\n",
    "2. Work with Nominal Features with pandas `get_dummies` method."
   ]
  },
  {
   "cell_type": "code",
   "execution_count": 2,
   "metadata": {
    "id": "tVXWZJxsEQxT"
   },
   "outputs": [],
   "source": [
    "import numpy as np\n",
    "import pandas as pd\n",
    "import matplotlib.pyplot as plt\n",
    "import seaborn as sns\n",
    "\n",
    "%matplotlib inline\n",
    "sns.set(rc={'figure.figsize': [10, 10]}, font_scale=1.3)"
   ]
  },
  {
   "cell_type": "code",
   "execution_count": 3,
   "metadata": {
    "id": "kbeP3smnEQxU",
    "outputId": "07f90f08-4918-487f-de66-dfbb88a1a470"
   },
   "outputs": [
    {
     "data": {
      "text/html": [
       "<div>\n",
       "<style scoped>\n",
       "    .dataframe tbody tr th:only-of-type {\n",
       "        vertical-align: middle;\n",
       "    }\n",
       "\n",
       "    .dataframe tbody tr th {\n",
       "        vertical-align: top;\n",
       "    }\n",
       "\n",
       "    .dataframe thead th {\n",
       "        text-align: right;\n",
       "    }\n",
       "</style>\n",
       "<table border=\"1\" class=\"dataframe\">\n",
       "  <thead>\n",
       "    <tr style=\"text-align: right;\">\n",
       "      <th></th>\n",
       "      <th>Date ordered</th>\n",
       "      <th>Order number</th>\n",
       "      <th>Brand</th>\n",
       "      <th>Size</th>\n",
       "      <th>Color</th>\n",
       "      <th>Design</th>\n",
       "      <th>Price</th>\n",
       "      <th>Delivery status</th>\n",
       "    </tr>\n",
       "  </thead>\n",
       "  <tbody>\n",
       "    <tr>\n",
       "      <th>0</th>\n",
       "      <td>2016-05-05</td>\n",
       "      <td>SDH-YU0</td>\n",
       "      <td>Yolo</td>\n",
       "      <td>L</td>\n",
       "      <td>red</td>\n",
       "      <td>spiral</td>\n",
       "      <td>14.47</td>\n",
       "      <td>damaged</td>\n",
       "    </tr>\n",
       "    <tr>\n",
       "      <th>1</th>\n",
       "      <td>2016-05-06</td>\n",
       "      <td>SDH-YU1</td>\n",
       "      <td>Yolo</td>\n",
       "      <td>XXL</td>\n",
       "      <td>green</td>\n",
       "      <td>spiral</td>\n",
       "      <td>16.24</td>\n",
       "      <td>delayed</td>\n",
       "    </tr>\n",
       "    <tr>\n",
       "      <th>2</th>\n",
       "      <td>2016-05-07</td>\n",
       "      <td>SDH-YU2</td>\n",
       "      <td>BLOT</td>\n",
       "      <td>XL</td>\n",
       "      <td>black</td>\n",
       "      <td>Stripes</td>\n",
       "      <td>14.32</td>\n",
       "      <td>delivered</td>\n",
       "    </tr>\n",
       "    <tr>\n",
       "      <th>3</th>\n",
       "      <td>2016-05-08</td>\n",
       "      <td>SDH-YU3</td>\n",
       "      <td>Kent</td>\n",
       "      <td>XXL</td>\n",
       "      <td>green</td>\n",
       "      <td>plain</td>\n",
       "      <td>14.07</td>\n",
       "      <td>damaged</td>\n",
       "    </tr>\n",
       "    <tr>\n",
       "      <th>4</th>\n",
       "      <td>2016-05-09</td>\n",
       "      <td>SDH-YU4</td>\n",
       "      <td>BUCK</td>\n",
       "      <td>XL</td>\n",
       "      <td>white</td>\n",
       "      <td>spiral</td>\n",
       "      <td>15.56</td>\n",
       "      <td>order received</td>\n",
       "    </tr>\n",
       "    <tr>\n",
       "      <th>...</th>\n",
       "      <td>...</td>\n",
       "      <td>...</td>\n",
       "      <td>...</td>\n",
       "      <td>...</td>\n",
       "      <td>...</td>\n",
       "      <td>...</td>\n",
       "      <td>...</td>\n",
       "      <td>...</td>\n",
       "    </tr>\n",
       "    <tr>\n",
       "      <th>495</th>\n",
       "      <td>2017-09-12</td>\n",
       "      <td>SDH-YU495</td>\n",
       "      <td>Wang</td>\n",
       "      <td>XS</td>\n",
       "      <td>green</td>\n",
       "      <td>diamond</td>\n",
       "      <td>15.03</td>\n",
       "      <td>damaged</td>\n",
       "    </tr>\n",
       "    <tr>\n",
       "      <th>496</th>\n",
       "      <td>2017-09-13</td>\n",
       "      <td>SDH-YU496</td>\n",
       "      <td>BUCK</td>\n",
       "      <td>M</td>\n",
       "      <td>black</td>\n",
       "      <td>Stripes</td>\n",
       "      <td>14.49</td>\n",
       "      <td>shipping</td>\n",
       "    </tr>\n",
       "    <tr>\n",
       "      <th>497</th>\n",
       "      <td>2017-09-14</td>\n",
       "      <td>SDH-YU497</td>\n",
       "      <td>Kent</td>\n",
       "      <td>XXL</td>\n",
       "      <td>purple</td>\n",
       "      <td>plain</td>\n",
       "      <td>15.61</td>\n",
       "      <td>shipping</td>\n",
       "    </tr>\n",
       "    <tr>\n",
       "      <th>498</th>\n",
       "      <td>2017-09-15</td>\n",
       "      <td>SDH-YU498</td>\n",
       "      <td>Yolo</td>\n",
       "      <td>S</td>\n",
       "      <td>red</td>\n",
       "      <td>plain</td>\n",
       "      <td>13.49</td>\n",
       "      <td>order received</td>\n",
       "    </tr>\n",
       "    <tr>\n",
       "      <th>499</th>\n",
       "      <td>2017-09-16</td>\n",
       "      <td>SDH-YU499</td>\n",
       "      <td>BLOT</td>\n",
       "      <td>S</td>\n",
       "      <td>black</td>\n",
       "      <td>spiral</td>\n",
       "      <td>14.75</td>\n",
       "      <td>shipping</td>\n",
       "    </tr>\n",
       "  </tbody>\n",
       "</table>\n",
       "<p>500 rows × 8 columns</p>\n",
       "</div>"
      ],
      "text/plain": [
       "    Date ordered Order number Brand Size   Color   Design  Price  \\\n",
       "0     2016-05-05      SDH-YU0  Yolo    L     red   spiral  14.47   \n",
       "1     2016-05-06      SDH-YU1  Yolo  XXL   green   spiral  16.24   \n",
       "2     2016-05-07      SDH-YU2  BLOT   XL   black  Stripes  14.32   \n",
       "3     2016-05-08      SDH-YU3  Kent  XXL   green    plain  14.07   \n",
       "4     2016-05-09      SDH-YU4  BUCK   XL   white   spiral  15.56   \n",
       "..           ...          ...   ...  ...     ...      ...    ...   \n",
       "495   2017-09-12    SDH-YU495  Wang   XS   green  diamond  15.03   \n",
       "496   2017-09-13    SDH-YU496  BUCK    M   black  Stripes  14.49   \n",
       "497   2017-09-14    SDH-YU497  Kent  XXL  purple    plain  15.61   \n",
       "498   2017-09-15    SDH-YU498  Yolo    S     red    plain  13.49   \n",
       "499   2017-09-16    SDH-YU499  BLOT    S   black   spiral  14.75   \n",
       "\n",
       "    Delivery status  \n",
       "0           damaged  \n",
       "1           delayed  \n",
       "2         delivered  \n",
       "3           damaged  \n",
       "4    order received  \n",
       "..              ...  \n",
       "495         damaged  \n",
       "496        shipping  \n",
       "497        shipping  \n",
       "498  order received  \n",
       "499        shipping  \n",
       "\n",
       "[500 rows x 8 columns]"
      ]
     },
     "execution_count": 3,
     "metadata": {},
     "output_type": "execute_result"
    }
   ],
   "source": [
    "df = pd.read_csv('t-shirts.csv')\n",
    "df"
   ]
  },
  {
   "cell_type": "markdown",
   "metadata": {
    "id": "BDuUdFFREQxU"
   },
   "source": [
    "## Make some EDA and Visualization"
   ]
  },
  {
   "cell_type": "code",
   "execution_count": 5,
   "metadata": {
    "id": "gYq1HOBSEQxV",
    "outputId": "3aabb4df-a516-426d-b6e8-e3cf107e11e9"
   },
   "outputs": [
    {
     "name": "stdout",
     "output_type": "stream",
     "text": [
      "<class 'pandas.core.frame.DataFrame'>\n",
      "RangeIndex: 500 entries, 0 to 499\n",
      "Data columns (total 8 columns):\n",
      " #   Column           Non-Null Count  Dtype  \n",
      "---  ------           --------------  -----  \n",
      " 0   Date ordered     500 non-null    object \n",
      " 1   Order number     500 non-null    object \n",
      " 2   Brand            500 non-null    object \n",
      " 3   Size             500 non-null    object \n",
      " 4   Color            500 non-null    object \n",
      " 5   Design           500 non-null    object \n",
      " 6   Price            500 non-null    float64\n",
      " 7   Delivery status  500 non-null    object \n",
      "dtypes: float64(1), object(7)\n",
      "memory usage: 31.4+ KB\n"
     ]
    }
   ],
   "source": [
    "df.info()"
   ]
  },
  {
   "cell_type": "code",
   "execution_count": 6,
   "metadata": {
    "id": "mYnaFdVFEQxV",
    "outputId": "70ebf46f-e0dd-430f-bf1a-d9fa153c48ad"
   },
   "outputs": [
    {
     "data": {
      "text/plain": [
       "Brand\n",
       "Yolo    109\n",
       "Kent    107\n",
       "BUCK    104\n",
       "Wang    103\n",
       "BLOT     77\n",
       "Name: count, dtype: int64"
      ]
     },
     "execution_count": 6,
     "metadata": {},
     "output_type": "execute_result"
    }
   ],
   "source": [
    "df['Brand'].value_counts()"
   ]
  },
  {
   "cell_type": "code",
   "execution_count": 7,
   "metadata": {
    "id": "0L8TE1JKEQxV",
    "outputId": "774c8030-8292-4c10-bfe2-c7c8afb70f85"
   },
   "outputs": [
    {
     "data": {
      "text/plain": [
       "Size\n",
       "XXL    94\n",
       "S      88\n",
       "XS     88\n",
       "M      82\n",
       "L      75\n",
       "XL     73\n",
       "Name: count, dtype: int64"
      ]
     },
     "execution_count": 7,
     "metadata": {},
     "output_type": "execute_result"
    }
   ],
   "source": [
    "df['Size'].value_counts()"
   ]
  },
  {
   "cell_type": "code",
   "execution_count": 8,
   "metadata": {
    "id": "ShuF-d8iEQxV",
    "outputId": "8792e912-5c3f-4b80-90e7-d86962b449b5"
   },
   "outputs": [
    {
     "data": {
      "text/plain": [
       "Color\n",
       "green     104\n",
       "indigo     89\n",
       "red        78\n",
       "purple     78\n",
       "black      77\n",
       "white      74\n",
       "Name: count, dtype: int64"
      ]
     },
     "execution_count": 8,
     "metadata": {},
     "output_type": "execute_result"
    }
   ],
   "source": [
    "df['Color'].value_counts()"
   ]
  },
  {
   "cell_type": "code",
   "execution_count": 9,
   "metadata": {
    "id": "1j2GinL0EQxW",
    "outputId": "c46e4ed8-fe50-490a-ce2f-a35c20a5a894"
   },
   "outputs": [
    {
     "data": {
      "text/plain": [
       "Design\n",
       "diamond    117\n",
       "checked    107\n",
       "Stripes    106\n",
       "spiral      89\n",
       "plain       81\n",
       "Name: count, dtype: int64"
      ]
     },
     "execution_count": 9,
     "metadata": {},
     "output_type": "execute_result"
    }
   ],
   "source": [
    "df['Design'].value_counts()"
   ]
  },
  {
   "cell_type": "code",
   "execution_count": 10,
   "metadata": {
    "id": "Xwla1nDzEQxW",
    "outputId": "9928b735-eb0b-4931-fb59-f6b26b1f7177"
   },
   "outputs": [
    {
     "name": "stderr",
     "output_type": "stream",
     "text": [
      "C:\\Users\\Baraa\\AppData\\Local\\Temp\\ipykernel_15004\\4098590609.py:1: FutureWarning: \n",
      "\n",
      "Passing `palette` without assigning `hue` is deprecated and will be removed in v0.14.0. Assign the `x` variable to `hue` and set `legend=False` for the same effect.\n",
      "\n",
      "  sns.boxplot(x='Brand', y='Price', data=df, palette='viridis')\n"
     ]
    },
    {
     "data": {
      "text/plain": [
       "<Axes: xlabel='Brand', ylabel='Price'>"
      ]
     },
     "execution_count": 10,
     "metadata": {},
     "output_type": "execute_result"
    },
    {
     "data": {
      "image/png": "[encoded data removed]",
      "text/plain": [
       "<Figure size 1000x1000 with 1 Axes>"
      ]
     },
     "metadata": {},
     "output_type": "display_data"
    }
   ],
   "source": [
    "sns.boxplot(x='Brand', y='Price', data=df, palette='viridis')"
   ]
  },
  {
   "cell_type": "code",
   "execution_count": 11,
   "metadata": {
    "id": "LJsIsxDnEQxW",
    "outputId": "5d5b4daa-8562-4a27-bc94-3332beb9089f"
   },
   "outputs": [
    {
     "name": "stderr",
     "output_type": "stream",
     "text": [
      "C:\\Users\\Baraa\\AppData\\Local\\Temp\\ipykernel_15004\\3350343937.py:1: FutureWarning: \n",
      "\n",
      "Passing `palette` without assigning `hue` is deprecated and will be removed in v0.14.0. Assign the `x` variable to `hue` and set `legend=False` for the same effect.\n",
      "\n",
      "  sns.violinplot(x='Size', y='Price', data=df, palette='viridis')\n"
     ]
    },
    {
     "data": {
      "text/plain": [
       "<Axes: xlabel='Size', ylabel='Price'>"
      ]
     },
     "execution_count": 11,
     "metadata": {},
     "output_type": "execute_result"
    },
    {
     "data": {
      "image/png": "[encoded data removed]",
      "text/plain": [
       "<Figure size 1000x1000 with 1 Axes>"
      ]
     },
     "metadata": {},
     "output_type": "display_data"
    }
   ],
   "source": [
    "sns.violinplot(x='Size', y='Price', data=df, palette='viridis')"
   ]
  },
  {
   "cell_type": "code",
   "execution_count": 12,
   "metadata": {
    "id": "Y2LJqN-wEQxX",
    "outputId": "008e608c-5b48-49fe-b435-0c9131859960"
   },
   "outputs": [
    {
     "name": "stderr",
     "output_type": "stream",
     "text": [
      "C:\\Users\\Baraa\\AppData\\Local\\Temp\\ipykernel_15004\\784296154.py:1: FutureWarning: \n",
      "\n",
      "Passing `palette` without assigning `hue` is deprecated and will be removed in v0.14.0. Assign the `x` variable to `hue` and set `legend=False` for the same effect.\n",
      "\n",
      "  sns.swarmplot(x='Design', y='Price', data=df, palette='viridis')\n"
     ]
    },
    {
     "data": {
      "text/plain": [
       "<Axes: xlabel='Design', ylabel='Price'>"
      ]
     },
     "execution_count": 12,
     "metadata": {},
     "output_type": "execute_result"
    },
    {
     "data": {
      "image/png": "[encoded data removed]",
      "text/plain": [
       "<Figure size 1000x1000 with 1 Axes>"
      ]
     },
     "metadata": {},
     "output_type": "display_data"
    }
   ],
   "source": [
    "sns.swarmplot(x='Design', y='Price', data=df, palette='viridis')"
   ]
  },
  {
   "cell_type": "markdown",
   "metadata": {
    "id": "BPrkVZ5sEQxX"
   },
   "source": [
    "**Extracted Info**\n",
    "- Design, Color, Brand are Nominal Categorical features\n",
    "- Size is Ordinal Categorical feature"
   ]
  },
  {
   "cell_type": "markdown",
   "metadata": {
    "id": "OPQBF92sEQxX"
   },
   "source": [
    "## 1) Work with Ordinal Features with pandas `map` method."
   ]
  },
  {
   "cell_type": "markdown",
   "metadata": {
    "id": "saqYv2d6EQxX"
   },
   "source": [
    "Ordinal features are those with some order associated with them. We can tell from the sample of ordinal features below these features have an order that may be important.\n",
    "\n",
    "For example we have Size column contains ordinal data so that XS < S < M < L < XL < XXL"
   ]
  },
  {
   "cell_type": "code",
   "execution_count": 16,
   "metadata": {
    "id": "7rQN4kN6EQxX",
    "outputId": "d1531d53-9614-4d39-aefe-3eecbb72d76a"
   },
   "outputs": [
    {
     "data": {
      "text/plain": [
       "Size\n",
       "XXL    94\n",
       "S      88\n",
       "XS     88\n",
       "M      82\n",
       "L      75\n",
       "XL     73\n",
       "Name: count, dtype: int64"
      ]
     },
     "execution_count": 16,
     "metadata": {},
     "output_type": "execute_result"
    }
   ],
   "source": [
    "df['Size'].value_counts()"
   ]
  },
  {
   "cell_type": "code",
   "execution_count": 17,
   "metadata": {
    "id": "7bf6rHNjEQxY"
   },
   "outputs": [],
   "source": [
    "size_dict = {'XS':1,\n",
    "        'S':2,\n",
    "        'M':3,\n",
    "        'L':4,\n",
    "        'XL':5,\n",
    "        'XXL':6}\n",
    "\n",
    "# apply using map\n",
    "df['Size'] = df['Size'].map(size_dict)"
   ]
  },
  {
   "cell_type": "code",
   "execution_count": 18,
   "metadata": {
    "id": "1dFSDbqmEQxY",
    "outputId": "639e15e1-2f8b-4d83-c58e-36c37d414ff5",
    "scrolled": true
   },
   "outputs": [
    {
     "data": {
      "text/html": [
       "<div>\n",
       "<style scoped>\n",
       "    .dataframe tbody tr th:only-of-type {\n",
       "        vertical-align: middle;\n",
       "    }\n",
       "\n",
       "    .dataframe tbody tr th {\n",
       "        vertical-align: top;\n",
       "    }\n",
       "\n",
       "    .dataframe thead th {\n",
       "        text-align: right;\n",
       "    }\n",
       "</style>\n",
       "<table border=\"1\" class=\"dataframe\">\n",
       "  <thead>\n",
       "    <tr style=\"text-align: right;\">\n",
       "      <th></th>\n",
       "      <th>Date ordered</th>\n",
       "      <th>Order number</th>\n",
       "      <th>Brand</th>\n",
       "      <th>Size</th>\n",
       "      <th>Color</th>\n",
       "      <th>Design</th>\n",
       "      <th>Price</th>\n",
       "      <th>Delivery status</th>\n",
       "    </tr>\n",
       "  </thead>\n",
       "  <tbody>\n",
       "    <tr>\n",
       "      <th>0</th>\n",
       "      <td>2016-05-05</td>\n",
       "      <td>SDH-YU0</td>\n",
       "      <td>Yolo</td>\n",
       "      <td>4</td>\n",
       "      <td>red</td>\n",
       "      <td>spiral</td>\n",
       "      <td>14.47</td>\n",
       "      <td>damaged</td>\n",
       "    </tr>\n",
       "    <tr>\n",
       "      <th>1</th>\n",
       "      <td>2016-05-06</td>\n",
       "      <td>SDH-YU1</td>\n",
       "      <td>Yolo</td>\n",
       "      <td>6</td>\n",
       "      <td>green</td>\n",
       "      <td>spiral</td>\n",
       "      <td>16.24</td>\n",
       "      <td>delayed</td>\n",
       "    </tr>\n",
       "    <tr>\n",
       "      <th>2</th>\n",
       "      <td>2016-05-07</td>\n",
       "      <td>SDH-YU2</td>\n",
       "      <td>BLOT</td>\n",
       "      <td>5</td>\n",
       "      <td>black</td>\n",
       "      <td>Stripes</td>\n",
       "      <td>14.32</td>\n",
       "      <td>delivered</td>\n",
       "    </tr>\n",
       "    <tr>\n",
       "      <th>3</th>\n",
       "      <td>2016-05-08</td>\n",
       "      <td>SDH-YU3</td>\n",
       "      <td>Kent</td>\n",
       "      <td>6</td>\n",
       "      <td>green</td>\n",
       "      <td>plain</td>\n",
       "      <td>14.07</td>\n",
       "      <td>damaged</td>\n",
       "    </tr>\n",
       "    <tr>\n",
       "      <th>4</th>\n",
       "      <td>2016-05-09</td>\n",
       "      <td>SDH-YU4</td>\n",
       "      <td>BUCK</td>\n",
       "      <td>5</td>\n",
       "      <td>white</td>\n",
       "      <td>spiral</td>\n",
       "      <td>15.56</td>\n",
       "      <td>order received</td>\n",
       "    </tr>\n",
       "  </tbody>\n",
       "</table>\n",
       "</div>"
      ],
      "text/plain": [
       "  Date ordered Order number Brand  Size  Color   Design  Price Delivery status\n",
       "0   2016-05-05      SDH-YU0  Yolo     4    red   spiral  14.47         damaged\n",
       "1   2016-05-06      SDH-YU1  Yolo     6  green   spiral  16.24         delayed\n",
       "2   2016-05-07      SDH-YU2  BLOT     5  black  Stripes  14.32       delivered\n",
       "3   2016-05-08      SDH-YU3  Kent     6  green    plain  14.07         damaged\n",
       "4   2016-05-09      SDH-YU4  BUCK     5  white   spiral  15.56  order received"
      ]
     },
     "execution_count": 18,
     "metadata": {},
     "output_type": "execute_result"
    }
   ],
   "source": [
    "df.head()"
   ]
  },
  {
   "cell_type": "markdown",
   "metadata": {
    "id": "7vFefx-7EQxY"
   },
   "source": [
    "**note**<br>\n",
    "you can use `LabelEncoder` from sklearn to generate the integer volumns from categorical features."
   ]
  },
  {
   "cell_type": "markdown",
   "metadata": {
    "id": "pD-UbqUsEQxY"
   },
   "source": [
    "### Get The Inverse"
   ]
  },
  {
   "cell_type": "code",
   "execution_count": 21,
   "metadata": {
    "id": "-SCSu7LAEQxY",
    "outputId": "be94b2ae-e11d-4645-b8aa-5141758fc14c"
   },
   "outputs": [
    {
     "data": {
      "text/plain": [
       "{1: 'XS', 2: 'S', 3: 'M', 4: 'L', 5: 'XL', 6: 'XXL'}"
      ]
     },
     "execution_count": 21,
     "metadata": {},
     "output_type": "execute_result"
    }
   ],
   "source": [
    "inv_size_mapping = {v: k for k, v in size_dict.items()}\n",
    "inv_size_mapping"
   ]
  },
  {
   "cell_type": "code",
   "execution_count": 22,
   "metadata": {
    "id": "xvukQTmCEQxY",
    "outputId": "4fb858fb-acb6-49d5-8b54-59bb0fcc205f"
   },
   "outputs": [
    {
     "data": {
      "text/html": [
       "<div>\n",
       "<style scoped>\n",
       "    .dataframe tbody tr th:only-of-type {\n",
       "        vertical-align: middle;\n",
       "    }\n",
       "\n",
       "    .dataframe tbody tr th {\n",
       "        vertical-align: top;\n",
       "    }\n",
       "\n",
       "    .dataframe thead th {\n",
       "        text-align: right;\n",
       "    }\n",
       "</style>\n",
       "<table border=\"1\" class=\"dataframe\">\n",
       "  <thead>\n",
       "    <tr style=\"text-align: right;\">\n",
       "      <th></th>\n",
       "      <th>Date ordered</th>\n",
       "      <th>Order number</th>\n",
       "      <th>Brand</th>\n",
       "      <th>Size</th>\n",
       "      <th>Color</th>\n",
       "      <th>Design</th>\n",
       "      <th>Price</th>\n",
       "      <th>Delivery status</th>\n",
       "      <th>size_inv</th>\n",
       "    </tr>\n",
       "  </thead>\n",
       "  <tbody>\n",
       "    <tr>\n",
       "      <th>0</th>\n",
       "      <td>2016-05-05</td>\n",
       "      <td>SDH-YU0</td>\n",
       "      <td>Yolo</td>\n",
       "      <td>4</td>\n",
       "      <td>red</td>\n",
       "      <td>spiral</td>\n",
       "      <td>14.47</td>\n",
       "      <td>damaged</td>\n",
       "      <td>L</td>\n",
       "    </tr>\n",
       "    <tr>\n",
       "      <th>1</th>\n",
       "      <td>2016-05-06</td>\n",
       "      <td>SDH-YU1</td>\n",
       "      <td>Yolo</td>\n",
       "      <td>6</td>\n",
       "      <td>green</td>\n",
       "      <td>spiral</td>\n",
       "      <td>16.24</td>\n",
       "      <td>delayed</td>\n",
       "      <td>XXL</td>\n",
       "    </tr>\n",
       "    <tr>\n",
       "      <th>2</th>\n",
       "      <td>2016-05-07</td>\n",
       "      <td>SDH-YU2</td>\n",
       "      <td>BLOT</td>\n",
       "      <td>5</td>\n",
       "      <td>black</td>\n",
       "      <td>Stripes</td>\n",
       "      <td>14.32</td>\n",
       "      <td>delivered</td>\n",
       "      <td>XL</td>\n",
       "    </tr>\n",
       "    <tr>\n",
       "      <th>3</th>\n",
       "      <td>2016-05-08</td>\n",
       "      <td>SDH-YU3</td>\n",
       "      <td>Kent</td>\n",
       "      <td>6</td>\n",
       "      <td>green</td>\n",
       "      <td>plain</td>\n",
       "      <td>14.07</td>\n",
       "      <td>damaged</td>\n",
       "      <td>XXL</td>\n",
       "    </tr>\n",
       "    <tr>\n",
       "      <th>4</th>\n",
       "      <td>2016-05-09</td>\n",
       "      <td>SDH-YU4</td>\n",
       "      <td>BUCK</td>\n",
       "      <td>5</td>\n",
       "      <td>white</td>\n",
       "      <td>spiral</td>\n",
       "      <td>15.56</td>\n",
       "      <td>order received</td>\n",
       "      <td>XL</td>\n",
       "    </tr>\n",
       "    <tr>\n",
       "      <th>...</th>\n",
       "      <td>...</td>\n",
       "      <td>...</td>\n",
       "      <td>...</td>\n",
       "      <td>...</td>\n",
       "      <td>...</td>\n",
       "      <td>...</td>\n",
       "      <td>...</td>\n",
       "      <td>...</td>\n",
       "      <td>...</td>\n",
       "    </tr>\n",
       "    <tr>\n",
       "      <th>495</th>\n",
       "      <td>2017-09-12</td>\n",
       "      <td>SDH-YU495</td>\n",
       "      <td>Wang</td>\n",
       "      <td>1</td>\n",
       "      <td>green</td>\n",
       "      <td>diamond</td>\n",
       "      <td>15.03</td>\n",
       "      <td>damaged</td>\n",
       "      <td>XS</td>\n",
       "    </tr>\n",
       "    <tr>\n",
       "      <th>496</th>\n",
       "      <td>2017-09-13</td>\n",
       "      <td>SDH-YU496</td>\n",
       "      <td>BUCK</td>\n",
       "      <td>3</td>\n",
       "      <td>black</td>\n",
       "      <td>Stripes</td>\n",
       "      <td>14.49</td>\n",
       "      <td>shipping</td>\n",
       "      <td>M</td>\n",
       "    </tr>\n",
       "    <tr>\n",
       "      <th>497</th>\n",
       "      <td>2017-09-14</td>\n",
       "      <td>SDH-YU497</td>\n",
       "      <td>Kent</td>\n",
       "      <td>6</td>\n",
       "      <td>purple</td>\n",
       "      <td>plain</td>\n",
       "      <td>15.61</td>\n",
       "      <td>shipping</td>\n",
       "      <td>XXL</td>\n",
       "    </tr>\n",
       "    <tr>\n",
       "      <th>498</th>\n",
       "      <td>2017-09-15</td>\n",
       "      <td>SDH-YU498</td>\n",
       "      <td>Yolo</td>\n",
       "      <td>2</td>\n",
       "      <td>red</td>\n",
       "      <td>plain</td>\n",
       "      <td>13.49</td>\n",
       "      <td>order received</td>\n",
       "      <td>S</td>\n",
       "    </tr>\n",
       "    <tr>\n",
       "      <th>499</th>\n",
       "      <td>2017-09-16</td>\n",
       "      <td>SDH-YU499</td>\n",
       "      <td>BLOT</td>\n",
       "      <td>2</td>\n",
       "      <td>black</td>\n",
       "      <td>spiral</td>\n",
       "      <td>14.75</td>\n",
       "      <td>shipping</td>\n",
       "      <td>S</td>\n",
       "    </tr>\n",
       "  </tbody>\n",
       "</table>\n",
       "<p>500 rows × 9 columns</p>\n",
       "</div>"
      ],
      "text/plain": [
       "    Date ordered Order number Brand  Size   Color   Design  Price  \\\n",
       "0     2016-05-05      SDH-YU0  Yolo     4     red   spiral  14.47   \n",
       "1     2016-05-06      SDH-YU1  Yolo     6   green   spiral  16.24   \n",
       "2     2016-05-07      SDH-YU2  BLOT     5   black  Stripes  14.32   \n",
       "3     2016-05-08      SDH-YU3  Kent     6   green    plain  14.07   \n",
       "4     2016-05-09      SDH-YU4  BUCK     5   white   spiral  15.56   \n",
       "..           ...          ...   ...   ...     ...      ...    ...   \n",
       "495   2017-09-12    SDH-YU495  Wang     1   green  diamond  15.03   \n",
       "496   2017-09-13    SDH-YU496  BUCK     3   black  Stripes  14.49   \n",
       "497   2017-09-14    SDH-YU497  Kent     6  purple    plain  15.61   \n",
       "498   2017-09-15    SDH-YU498  Yolo     2     red    plain  13.49   \n",
       "499   2017-09-16    SDH-YU499  BLOT     2   black   spiral  14.75   \n",
       "\n",
       "    Delivery status size_inv  \n",
       "0           damaged        L  \n",
       "1           delayed      XXL  \n",
       "2         delivered       XL  \n",
       "3           damaged      XXL  \n",
       "4    order received       XL  \n",
       "..              ...      ...  \n",
       "495         damaged       XS  \n",
       "496        shipping        M  \n",
       "497        shipping      XXL  \n",
       "498  order received        S  \n",
       "499        shipping        S  \n",
       "\n",
       "[500 rows x 9 columns]"
      ]
     },
     "execution_count": 22,
     "metadata": {},
     "output_type": "execute_result"
    }
   ],
   "source": [
    "df['size_inv'] = df['Size'].map(inv_size_mapping)\n",
    "df"
   ]
  },
  {
   "cell_type": "markdown",
   "metadata": {
    "id": "ccVcOZfVEQxZ"
   },
   "source": [
    "## 2) Work with Nominal Features with pandas `get_dummies` method."
   ]
  },
  {
   "cell_type": "markdown",
   "metadata": {
    "id": "6cEysP7KEQxZ"
   },
   "source": [
    "<img src='https://miro.medium.com/max/1400/1*hZLqbZqqrwiqkGxxl2vYkg.png'>\n",
    "\n",
    "Nominal features are categorical features that have no numerical importance. Order does not matter.\n",
    "\n",
    "One-hot encoding is a better technique when order doesn’t matter. For example, in the feature Color or Brand there is no obvious order here. One value is not better than another.\n",
    "\n",
    "In a situation like this, where order doesn’t matter, integer encoding could lead to poor model performance and should not be used.\n",
    "\n",
    "In one hot encoding, a new binary (dummy) variable is created for each unique value in the categorical variable. For example In the chart above, we had three unique colors and so we create three new features, one for each color. If the value is true, the integer 1 is placed in the field, if false then a 0."
   ]
  },
  {
   "cell_type": "code",
   "execution_count": 25,
   "metadata": {
    "id": "b7UrPcLsEQxZ",
    "outputId": "4b5694f6-f306-4496-a2d5-0fbc7b96cd33"
   },
   "outputs": [
    {
     "data": {
      "text/plain": [
       "Design\n",
       "diamond    117\n",
       "checked    107\n",
       "Stripes    106\n",
       "spiral      89\n",
       "plain       81\n",
       "Name: count, dtype: int64"
      ]
     },
     "execution_count": 25,
     "metadata": {},
     "output_type": "execute_result"
    }
   ],
   "source": [
    "df['Design'].value_counts()"
   ]
  },
  {
   "cell_type": "code",
   "execution_count": 26,
   "metadata": {
    "id": "kJaNHjbJEQxZ",
    "outputId": "b55580b1-b8e3-4de6-d5b9-019370723096"
   },
   "outputs": [
    {
     "data": {
      "text/plain": [
       "Color\n",
       "green     104\n",
       "indigo     89\n",
       "red        78\n",
       "purple     78\n",
       "black      77\n",
       "white      74\n",
       "Name: count, dtype: int64"
      ]
     },
     "execution_count": 26,
     "metadata": {},
     "output_type": "execute_result"
    }
   ],
   "source": [
    "df['Color'].value_counts()"
   ]
  },
  {
   "cell_type": "code",
   "execution_count": 27,
   "metadata": {
    "id": "Ex2MJn7xEQxZ",
    "outputId": "9e1a401c-b4a7-4193-bea5-81f02881fd61"
   },
   "outputs": [
    {
     "data": {
      "text/plain": [
       "Brand\n",
       "Yolo    109\n",
       "Kent    107\n",
       "BUCK    104\n",
       "Wang    103\n",
       "BLOT     77\n",
       "Name: count, dtype: int64"
      ]
     },
     "execution_count": 27,
     "metadata": {},
     "output_type": "execute_result"
    }
   ],
   "source": [
    "df['Brand'].value_counts()"
   ]
  },
  {
   "cell_type": "code",
   "execution_count": 28,
   "metadata": {
    "id": "a208LYmwEQxZ",
    "outputId": "3ae8874f-0053-425c-c465-e7eadf05aecb"
   },
   "outputs": [
    {
     "data": {
      "text/plain": [
       "Delivery status\n",
       "order received    106\n",
       "shipping          104\n",
       "damaged           100\n",
       "delayed            95\n",
       "delivered          95\n",
       "Name: count, dtype: int64"
      ]
     },
     "execution_count": 28,
     "metadata": {},
     "output_type": "execute_result"
    }
   ],
   "source": [
    "df['Delivery status'].value_counts()"
   ]
  },
  {
   "cell_type": "code",
   "execution_count": 29,
   "metadata": {
    "id": "ZLSsY22CEQxa"
   },
   "outputs": [],
   "source": [
    "df = pd.get_dummies(df, columns=['Design', 'Color', 'Brand', 'Delivery status'], drop_first=True)"
   ]
  },
  {
   "cell_type": "code",
   "execution_count": 30,
   "metadata": {
    "id": "IytU1PfBEQxa",
    "outputId": "363b4fa6-cc1d-40c5-96b8-8aa7f1e72743",
    "scrolled": true
   },
   "outputs": [
    {
     "data": {
      "text/html": [
       "<div>\n",
       "<style scoped>\n",
       "    .dataframe tbody tr th:only-of-type {\n",
       "        vertical-align: middle;\n",
       "    }\n",
       "\n",
       "    .dataframe tbody tr th {\n",
       "        vertical-align: top;\n",
       "    }\n",
       "\n",
       "    .dataframe thead th {\n",
       "        text-align: right;\n",
       "    }\n",
       "</style>\n",
       "<table border=\"1\" class=\"dataframe\">\n",
       "  <thead>\n",
       "    <tr style=\"text-align: right;\">\n",
       "      <th></th>\n",
       "      <th>Date ordered</th>\n",
       "      <th>Order number</th>\n",
       "      <th>Size</th>\n",
       "      <th>Price</th>\n",
       "      <th>size_inv</th>\n",
       "      <th>Design_checked</th>\n",
       "      <th>Design_diamond</th>\n",
       "      <th>Design_plain</th>\n",
       "      <th>Design_spiral</th>\n",
       "      <th>Color_green</th>\n",
       "      <th>...</th>\n",
       "      <th>Color_red</th>\n",
       "      <th>Color_white</th>\n",
       "      <th>Brand_BUCK</th>\n",
       "      <th>Brand_Kent</th>\n",
       "      <th>Brand_Wang</th>\n",
       "      <th>Brand_Yolo</th>\n",
       "      <th>Delivery status_delayed</th>\n",
       "      <th>Delivery status_delivered</th>\n",
       "      <th>Delivery status_order received</th>\n",
       "      <th>Delivery status_shipping</th>\n",
       "    </tr>\n",
       "  </thead>\n",
       "  <tbody>\n",
       "    <tr>\n",
       "      <th>0</th>\n",
       "      <td>2016-05-05</td>\n",
       "      <td>SDH-YU0</td>\n",
       "      <td>4</td>\n",
       "      <td>14.47</td>\n",
       "      <td>L</td>\n",
       "      <td>False</td>\n",
       "      <td>False</td>\n",
       "      <td>False</td>\n",
       "      <td>True</td>\n",
       "      <td>False</td>\n",
       "      <td>...</td>\n",
       "      <td>True</td>\n",
       "      <td>False</td>\n",
       "      <td>False</td>\n",
       "      <td>False</td>\n",
       "      <td>False</td>\n",
       "      <td>True</td>\n",
       "      <td>False</td>\n",
       "      <td>False</td>\n",
       "      <td>False</td>\n",
       "      <td>False</td>\n",
       "    </tr>\n",
       "    <tr>\n",
       "      <th>1</th>\n",
       "      <td>2016-05-06</td>\n",
       "      <td>SDH-YU1</td>\n",
       "      <td>6</td>\n",
       "      <td>16.24</td>\n",
       "      <td>XXL</td>\n",
       "      <td>False</td>\n",
       "      <td>False</td>\n",
       "      <td>False</td>\n",
       "      <td>True</td>\n",
       "      <td>True</td>\n",
       "      <td>...</td>\n",
       "      <td>False</td>\n",
       "      <td>False</td>\n",
       "      <td>False</td>\n",
       "      <td>False</td>\n",
       "      <td>False</td>\n",
       "      <td>True</td>\n",
       "      <td>True</td>\n",
       "      <td>False</td>\n",
       "      <td>False</td>\n",
       "      <td>False</td>\n",
       "    </tr>\n",
       "    <tr>\n",
       "      <th>2</th>\n",
       "      <td>2016-05-07</td>\n",
       "      <td>SDH-YU2</td>\n",
       "      <td>5</td>\n",
       "      <td>14.32</td>\n",
       "      <td>XL</td>\n",
       "      <td>False</td>\n",
       "      <td>False</td>\n",
       "      <td>False</td>\n",
       "      <td>False</td>\n",
       "      <td>False</td>\n",
       "      <td>...</td>\n",
       "      <td>False</td>\n",
       "      <td>False</td>\n",
       "      <td>False</td>\n",
       "      <td>False</td>\n",
       "      <td>False</td>\n",
       "      <td>False</td>\n",
       "      <td>False</td>\n",
       "      <td>True</td>\n",
       "      <td>False</td>\n",
       "      <td>False</td>\n",
       "    </tr>\n",
       "    <tr>\n",
       "      <th>3</th>\n",
       "      <td>2016-05-08</td>\n",
       "      <td>SDH-YU3</td>\n",
       "      <td>6</td>\n",
       "      <td>14.07</td>\n",
       "      <td>XXL</td>\n",
       "      <td>False</td>\n",
       "      <td>False</td>\n",
       "      <td>True</td>\n",
       "      <td>False</td>\n",
       "      <td>True</td>\n",
       "      <td>...</td>\n",
       "      <td>False</td>\n",
       "      <td>False</td>\n",
       "      <td>False</td>\n",
       "      <td>True</td>\n",
       "      <td>False</td>\n",
       "      <td>False</td>\n",
       "      <td>False</td>\n",
       "      <td>False</td>\n",
       "      <td>False</td>\n",
       "      <td>False</td>\n",
       "    </tr>\n",
       "    <tr>\n",
       "      <th>4</th>\n",
       "      <td>2016-05-09</td>\n",
       "      <td>SDH-YU4</td>\n",
       "      <td>5</td>\n",
       "      <td>15.56</td>\n",
       "      <td>XL</td>\n",
       "      <td>False</td>\n",
       "      <td>False</td>\n",
       "      <td>False</td>\n",
       "      <td>True</td>\n",
       "      <td>False</td>\n",
       "      <td>...</td>\n",
       "      <td>False</td>\n",
       "      <td>True</td>\n",
       "      <td>True</td>\n",
       "      <td>False</td>\n",
       "      <td>False</td>\n",
       "      <td>False</td>\n",
       "      <td>False</td>\n",
       "      <td>False</td>\n",
       "      <td>True</td>\n",
       "      <td>False</td>\n",
       "    </tr>\n",
       "    <tr>\n",
       "      <th>...</th>\n",
       "      <td>...</td>\n",
       "      <td>...</td>\n",
       "      <td>...</td>\n",
       "      <td>...</td>\n",
       "      <td>...</td>\n",
       "      <td>...</td>\n",
       "      <td>...</td>\n",
       "      <td>...</td>\n",
       "      <td>...</td>\n",
       "      <td>...</td>\n",
       "      <td>...</td>\n",
       "      <td>...</td>\n",
       "      <td>...</td>\n",
       "      <td>...</td>\n",
       "      <td>...</td>\n",
       "      <td>...</td>\n",
       "      <td>...</td>\n",
       "      <td>...</td>\n",
       "      <td>...</td>\n",
       "      <td>...</td>\n",
       "      <td>...</td>\n",
       "    </tr>\n",
       "    <tr>\n",
       "      <th>495</th>\n",
       "      <td>2017-09-12</td>\n",
       "      <td>SDH-YU495</td>\n",
       "      <td>1</td>\n",
       "      <td>15.03</td>\n",
       "      <td>XS</td>\n",
       "      <td>False</td>\n",
       "      <td>True</td>\n",
       "      <td>False</td>\n",
       "      <td>False</td>\n",
       "      <td>True</td>\n",
       "      <td>...</td>\n",
       "      <td>False</td>\n",
       "      <td>False</td>\n",
       "      <td>False</td>\n",
       "      <td>False</td>\n",
       "      <td>True</td>\n",
       "      <td>False</td>\n",
       "      <td>False</td>\n",
       "      <td>False</td>\n",
       "      <td>False</td>\n",
       "      <td>False</td>\n",
       "    </tr>\n",
       "    <tr>\n",
       "      <th>496</th>\n",
       "      <td>2017-09-13</td>\n",
       "      <td>SDH-YU496</td>\n",
       "      <td>3</td>\n",
       "      <td>14.49</td>\n",
       "      <td>M</td>\n",
       "      <td>False</td>\n",
       "      <td>False</td>\n",
       "      <td>False</td>\n",
       "      <td>False</td>\n",
       "      <td>False</td>\n",
       "      <td>...</td>\n",
       "      <td>False</td>\n",
       "      <td>False</td>\n",
       "      <td>True</td>\n",
       "      <td>False</td>\n",
       "      <td>False</td>\n",
       "      <td>False</td>\n",
       "      <td>False</td>\n",
       "      <td>False</td>\n",
       "      <td>False</td>\n",
       "      <td>True</td>\n",
       "    </tr>\n",
       "    <tr>\n",
       "      <th>497</th>\n",
       "      <td>2017-09-14</td>\n",
       "      <td>SDH-YU497</td>\n",
       "      <td>6</td>\n",
       "      <td>15.61</td>\n",
       "      <td>XXL</td>\n",
       "      <td>False</td>\n",
       "      <td>False</td>\n",
       "      <td>True</td>\n",
       "      <td>False</td>\n",
       "      <td>False</td>\n",
       "      <td>...</td>\n",
       "      <td>False</td>\n",
       "      <td>False</td>\n",
       "      <td>False</td>\n",
       "      <td>True</td>\n",
       "      <td>False</td>\n",
       "      <td>False</td>\n",
       "      <td>False</td>\n",
       "      <td>False</td>\n",
       "      <td>False</td>\n",
       "      <td>True</td>\n",
       "    </tr>\n",
       "    <tr>\n",
       "      <th>498</th>\n",
       "      <td>2017-09-15</td>\n",
       "      <td>SDH-YU498</td>\n",
       "      <td>2</td>\n",
       "      <td>13.49</td>\n",
       "      <td>S</td>\n",
       "      <td>False</td>\n",
       "      <td>False</td>\n",
       "      <td>True</td>\n",
       "      <td>False</td>\n",
       "      <td>False</td>\n",
       "      <td>...</td>\n",
       "      <td>True</td>\n",
       "      <td>False</td>\n",
       "      <td>False</td>\n",
       "      <td>False</td>\n",
       "      <td>False</td>\n",
       "      <td>True</td>\n",
       "      <td>False</td>\n",
       "      <td>False</td>\n",
       "      <td>True</td>\n",
       "      <td>False</td>\n",
       "    </tr>\n",
       "    <tr>\n",
       "      <th>499</th>\n",
       "      <td>2017-09-16</td>\n",
       "      <td>SDH-YU499</td>\n",
       "      <td>2</td>\n",
       "      <td>14.75</td>\n",
       "      <td>S</td>\n",
       "      <td>False</td>\n",
       "      <td>False</td>\n",
       "      <td>False</td>\n",
       "      <td>True</td>\n",
       "      <td>False</td>\n",
       "      <td>...</td>\n",
       "      <td>False</td>\n",
       "      <td>False</td>\n",
       "      <td>False</td>\n",
       "      <td>False</td>\n",
       "      <td>False</td>\n",
       "      <td>False</td>\n",
       "      <td>False</td>\n",
       "      <td>False</td>\n",
       "      <td>False</td>\n",
       "      <td>True</td>\n",
       "    </tr>\n",
       "  </tbody>\n",
       "</table>\n",
       "<p>500 rows × 22 columns</p>\n",
       "</div>"
      ],
      "text/plain": [
       "    Date ordered Order number  Size  Price size_inv  Design_checked  \\\n",
       "0     2016-05-05      SDH-YU0     4  14.47        L           False   \n",
       "1     2016-05-06      SDH-YU1     6  16.24      XXL           False   \n",
       "2     2016-05-07      SDH-YU2     5  14.32       XL           False   \n",
       "3     2016-05-08      SDH-YU3     6  14.07      XXL           False   \n",
       "4     2016-05-09      SDH-YU4     5  15.56       XL           False   \n",
       "..           ...          ...   ...    ...      ...             ...   \n",
       "495   2017-09-12    SDH-YU495     1  15.03       XS           False   \n",
       "496   2017-09-13    SDH-YU496     3  14.49        M           False   \n",
       "497   2017-09-14    SDH-YU497     6  15.61      XXL           False   \n",
       "498   2017-09-15    SDH-YU498     2  13.49        S           False   \n",
       "499   2017-09-16    SDH-YU499     2  14.75        S           False   \n",
       "\n",
       "     Design_diamond  Design_plain  Design_spiral  Color_green  ...  Color_red  \\\n",
       "0             False         False           True        False  ...       True   \n",
       "1             False         False           True         True  ...      False   \n",
       "2             False         False          False        False  ...      False   \n",
       "3             False          True          False         True  ...      False   \n",
       "4             False         False           True        False  ...      False   \n",
       "..              ...           ...            ...          ...  ...        ...   \n",
       "495            True         False          False         True  ...      False   \n",
       "496           False         False          False        False  ...      False   \n",
       "497           False          True          False        False  ...      False   \n",
       "498           False          True          False        False  ...       True   \n",
       "499           False         False           True        False  ...      False   \n",
       "\n",
       "     Color_white  Brand_BUCK  Brand_Kent  Brand_Wang  Brand_Yolo  \\\n",
       "0          False       False       False       False        True   \n",
       "1          False       False       False       False        True   \n",
       "2          False       False       False       False       False   \n",
       "3          False       False        True       False       False   \n",
       "4           True        True       False       False       False   \n",
       "..           ...         ...         ...         ...         ...   \n",
       "495        False       False       False        True       False   \n",
       "496        False        True       False       False       False   \n",
       "497        False       False        True       False       False   \n",
       "498        False       False       False       False        True   \n",
       "499        False       False       False       False       False   \n",
       "\n",
       "     Delivery status_delayed  Delivery status_delivered  \\\n",
       "0                      False                      False   \n",
       "1                       True                      False   \n",
       "2                      False                       True   \n",
       "3                      False                      False   \n",
       "4                      False                      False   \n",
       "..                       ...                        ...   \n",
       "495                    False                      False   \n",
       "496                    False                      False   \n",
       "497                    False                      False   \n",
       "498                    False                      False   \n",
       "499                    False                      False   \n",
       "\n",
       "     Delivery status_order received  Delivery status_shipping  \n",
       "0                             False                     False  \n",
       "1                             False                     False  \n",
       "2                             False                     False  \n",
       "3                             False                     False  \n",
       "4                              True                     False  \n",
       "..                              ...                       ...  \n",
       "495                           False                     False  \n",
       "496                           False                      True  \n",
       "497                           False                      True  \n",
       "498                            True                     False  \n",
       "499                           False                      True  \n",
       "\n",
       "[500 rows x 22 columns]"
      ]
     },
     "execution_count": 30,
     "metadata": {},
     "output_type": "execute_result"
    }
   ],
   "source": [
    "df"
   ]
  },
  {
   "cell_type": "markdown",
   "metadata": {
    "id": "0iuBjkTGEQxa"
   },
   "source": [
    "we use `drop_first` to get k-1 features, due to the last feature will be redundant and correlated with other features so it can cause problems.\n",
    "\n",
    "- Spiral dummy variable has been removed from Design column\n",
    "- Black dummy variable has been removed from Color column\n",
    "- Blot dummy variable has been removed from Brand column"
   ]
  },
  {
   "cell_type": "markdown",
   "metadata": {
    "id": "oZx7OYDIEQxa"
   },
   "source": [
    "**note**<br>\n",
    "you can use `OneHotEncoder` from sklearn to generate the dummy variables from categorical features."
   ]
  },
  {
   "cell_type": "markdown",
   "metadata": {
    "id": "xbAaXt2TEQxb"
   },
   "source": [
    "### OneHotEncoder Method"
   ]
  },
  {
   "cell_type": "code",
   "execution_count": 34,
   "metadata": {
    "id": "Wr9B9DjJEQxb"
   },
   "outputs": [],
   "source": [
    "df = pd.read_csv('t-shirts.csv')"
   ]
  },
  {
   "cell_type": "code",
   "execution_count": 37,
   "metadata": {
    "id": "HAGwcuu1EQxb"
   },
   "outputs": [],
   "source": [
    "from sklearn.preprocessing import OneHotEncoder\n",
    "Encoder = OneHotEncoder(sparse_output=False, drop='first')\n"
   ]
  },
  {
   "cell_type": "code",
   "execution_count": 39,
   "metadata": {
    "id": "5VDMvT2OEQxb"
   },
   "outputs": [],
   "source": [
    "Transformed_Color = Encoder.fit_transform(df[['Color']])\n"
   ]
  },
  {
   "cell_type": "code",
   "execution_count": 47,
   "metadata": {
    "id": "AfSopt08EQxb",
    "outputId": "68f86c7f-b6cc-43f6-e82f-d94732fd5ccd"
   },
   "outputs": [],
   "source": [
    "Transformed_Color_Df = pd.DataFrame(Transformed_Color , columns= Encoder.get_feature_names_out())"
   ]
  },
  {
   "cell_type": "code",
   "execution_count": 49,
   "metadata": {
    "id": "0j1QriOIEQxc",
    "outputId": "fdea2838-482a-4e43-dcab-5b2f2a183572"
   },
   "outputs": [
    {
     "data": {
      "text/html": [
       "<div>\n",
       "<style scoped>\n",
       "    .dataframe tbody tr th:only-of-type {\n",
       "        vertical-align: middle;\n",
       "    }\n",
       "\n",
       "    .dataframe tbody tr th {\n",
       "        vertical-align: top;\n",
       "    }\n",
       "\n",
       "    .dataframe thead th {\n",
       "        text-align: right;\n",
       "    }\n",
       "</style>\n",
       "<table border=\"1\" class=\"dataframe\">\n",
       "  <thead>\n",
       "    <tr style=\"text-align: right;\">\n",
       "      <th></th>\n",
       "      <th>Color_green</th>\n",
       "      <th>Color_indigo</th>\n",
       "      <th>Color_purple</th>\n",
       "      <th>Color_red</th>\n",
       "      <th>Color_white</th>\n",
       "    </tr>\n",
       "  </thead>\n",
       "  <tbody>\n",
       "    <tr>\n",
       "      <th>0</th>\n",
       "      <td>0.0</td>\n",
       "      <td>0.0</td>\n",
       "      <td>0.0</td>\n",
       "      <td>1.0</td>\n",
       "      <td>0.0</td>\n",
       "    </tr>\n",
       "    <tr>\n",
       "      <th>1</th>\n",
       "      <td>1.0</td>\n",
       "      <td>0.0</td>\n",
       "      <td>0.0</td>\n",
       "      <td>0.0</td>\n",
       "      <td>0.0</td>\n",
       "    </tr>\n",
       "    <tr>\n",
       "      <th>2</th>\n",
       "      <td>0.0</td>\n",
       "      <td>0.0</td>\n",
       "      <td>0.0</td>\n",
       "      <td>0.0</td>\n",
       "      <td>0.0</td>\n",
       "    </tr>\n",
       "    <tr>\n",
       "      <th>3</th>\n",
       "      <td>1.0</td>\n",
       "      <td>0.0</td>\n",
       "      <td>0.0</td>\n",
       "      <td>0.0</td>\n",
       "      <td>0.0</td>\n",
       "    </tr>\n",
       "    <tr>\n",
       "      <th>4</th>\n",
       "      <td>0.0</td>\n",
       "      <td>0.0</td>\n",
       "      <td>0.0</td>\n",
       "      <td>0.0</td>\n",
       "      <td>1.0</td>\n",
       "    </tr>\n",
       "    <tr>\n",
       "      <th>...</th>\n",
       "      <td>...</td>\n",
       "      <td>...</td>\n",
       "      <td>...</td>\n",
       "      <td>...</td>\n",
       "      <td>...</td>\n",
       "    </tr>\n",
       "    <tr>\n",
       "      <th>495</th>\n",
       "      <td>1.0</td>\n",
       "      <td>0.0</td>\n",
       "      <td>0.0</td>\n",
       "      <td>0.0</td>\n",
       "      <td>0.0</td>\n",
       "    </tr>\n",
       "    <tr>\n",
       "      <th>496</th>\n",
       "      <td>0.0</td>\n",
       "      <td>0.0</td>\n",
       "      <td>0.0</td>\n",
       "      <td>0.0</td>\n",
       "      <td>0.0</td>\n",
       "    </tr>\n",
       "    <tr>\n",
       "      <th>497</th>\n",
       "      <td>0.0</td>\n",
       "      <td>0.0</td>\n",
       "      <td>1.0</td>\n",
       "      <td>0.0</td>\n",
       "      <td>0.0</td>\n",
       "    </tr>\n",
       "    <tr>\n",
       "      <th>498</th>\n",
       "      <td>0.0</td>\n",
       "      <td>0.0</td>\n",
       "      <td>0.0</td>\n",
       "      <td>1.0</td>\n",
       "      <td>0.0</td>\n",
       "    </tr>\n",
       "    <tr>\n",
       "      <th>499</th>\n",
       "      <td>0.0</td>\n",
       "      <td>0.0</td>\n",
       "      <td>0.0</td>\n",
       "      <td>0.0</td>\n",
       "      <td>0.0</td>\n",
       "    </tr>\n",
       "  </tbody>\n",
       "</table>\n",
       "<p>500 rows × 5 columns</p>\n",
       "</div>"
      ],
      "text/plain": [
       "     Color_green  Color_indigo  Color_purple  Color_red  Color_white\n",
       "0            0.0           0.0           0.0        1.0          0.0\n",
       "1            1.0           0.0           0.0        0.0          0.0\n",
       "2            0.0           0.0           0.0        0.0          0.0\n",
       "3            1.0           0.0           0.0        0.0          0.0\n",
       "4            0.0           0.0           0.0        0.0          1.0\n",
       "..           ...           ...           ...        ...          ...\n",
       "495          1.0           0.0           0.0        0.0          0.0\n",
       "496          0.0           0.0           0.0        0.0          0.0\n",
       "497          0.0           0.0           1.0        0.0          0.0\n",
       "498          0.0           0.0           0.0        1.0          0.0\n",
       "499          0.0           0.0           0.0        0.0          0.0\n",
       "\n",
       "[500 rows x 5 columns]"
      ]
     },
     "execution_count": 49,
     "metadata": {},
     "output_type": "execute_result"
    }
   ],
   "source": [
    "Transformed_Color_Df"
   ]
  },
  {
   "cell_type": "code",
   "execution_count": 51,
   "metadata": {
    "id": "pLSUB0fzEQxc"
   },
   "outputs": [],
   "source": [
    "df = pd.concat([df,Transformed_Color_Df] , axis = 1 )\n",
    "df.drop('Color' , axis = 1 , inplace =True)"
   ]
  },
  {
   "cell_type": "code",
   "execution_count": 53,
   "metadata": {
    "id": "V1XqXdIeEQxk",
    "outputId": "5d7382ec-60be-4595-be05-bfb9c8f5447b"
   },
   "outputs": [
    {
     "data": {
      "text/html": [
       "<div>\n",
       "<style scoped>\n",
       "    .dataframe tbody tr th:only-of-type {\n",
       "        vertical-align: middle;\n",
       "    }\n",
       "\n",
       "    .dataframe tbody tr th {\n",
       "        vertical-align: top;\n",
       "    }\n",
       "\n",
       "    .dataframe thead th {\n",
       "        text-align: right;\n",
       "    }\n",
       "</style>\n",
       "<table border=\"1\" class=\"dataframe\">\n",
       "  <thead>\n",
       "    <tr style=\"text-align: right;\">\n",
       "      <th></th>\n",
       "      <th>Date ordered</th>\n",
       "      <th>Order number</th>\n",
       "      <th>Brand</th>\n",
       "      <th>Size</th>\n",
       "      <th>Design</th>\n",
       "      <th>Price</th>\n",
       "      <th>Delivery status</th>\n",
       "      <th>Color_green</th>\n",
       "      <th>Color_indigo</th>\n",
       "      <th>Color_purple</th>\n",
       "      <th>Color_red</th>\n",
       "      <th>Color_white</th>\n",
       "    </tr>\n",
       "  </thead>\n",
       "  <tbody>\n",
       "    <tr>\n",
       "      <th>0</th>\n",
       "      <td>2016-05-05</td>\n",
       "      <td>SDH-YU0</td>\n",
       "      <td>Yolo</td>\n",
       "      <td>L</td>\n",
       "      <td>spiral</td>\n",
       "      <td>14.47</td>\n",
       "      <td>damaged</td>\n",
       "      <td>0.0</td>\n",
       "      <td>0.0</td>\n",
       "      <td>0.0</td>\n",
       "      <td>1.0</td>\n",
       "      <td>0.0</td>\n",
       "    </tr>\n",
       "    <tr>\n",
       "      <th>1</th>\n",
       "      <td>2016-05-06</td>\n",
       "      <td>SDH-YU1</td>\n",
       "      <td>Yolo</td>\n",
       "      <td>XXL</td>\n",
       "      <td>spiral</td>\n",
       "      <td>16.24</td>\n",
       "      <td>delayed</td>\n",
       "      <td>1.0</td>\n",
       "      <td>0.0</td>\n",
       "      <td>0.0</td>\n",
       "      <td>0.0</td>\n",
       "      <td>0.0</td>\n",
       "    </tr>\n",
       "    <tr>\n",
       "      <th>2</th>\n",
       "      <td>2016-05-07</td>\n",
       "      <td>SDH-YU2</td>\n",
       "      <td>BLOT</td>\n",
       "      <td>XL</td>\n",
       "      <td>Stripes</td>\n",
       "      <td>14.32</td>\n",
       "      <td>delivered</td>\n",
       "      <td>0.0</td>\n",
       "      <td>0.0</td>\n",
       "      <td>0.0</td>\n",
       "      <td>0.0</td>\n",
       "      <td>0.0</td>\n",
       "    </tr>\n",
       "    <tr>\n",
       "      <th>3</th>\n",
       "      <td>2016-05-08</td>\n",
       "      <td>SDH-YU3</td>\n",
       "      <td>Kent</td>\n",
       "      <td>XXL</td>\n",
       "      <td>plain</td>\n",
       "      <td>14.07</td>\n",
       "      <td>damaged</td>\n",
       "      <td>1.0</td>\n",
       "      <td>0.0</td>\n",
       "      <td>0.0</td>\n",
       "      <td>0.0</td>\n",
       "      <td>0.0</td>\n",
       "    </tr>\n",
       "    <tr>\n",
       "      <th>4</th>\n",
       "      <td>2016-05-09</td>\n",
       "      <td>SDH-YU4</td>\n",
       "      <td>BUCK</td>\n",
       "      <td>XL</td>\n",
       "      <td>spiral</td>\n",
       "      <td>15.56</td>\n",
       "      <td>order received</td>\n",
       "      <td>0.0</td>\n",
       "      <td>0.0</td>\n",
       "      <td>0.0</td>\n",
       "      <td>0.0</td>\n",
       "      <td>1.0</td>\n",
       "    </tr>\n",
       "    <tr>\n",
       "      <th>...</th>\n",
       "      <td>...</td>\n",
       "      <td>...</td>\n",
       "      <td>...</td>\n",
       "      <td>...</td>\n",
       "      <td>...</td>\n",
       "      <td>...</td>\n",
       "      <td>...</td>\n",
       "      <td>...</td>\n",
       "      <td>...</td>\n",
       "      <td>...</td>\n",
       "      <td>...</td>\n",
       "      <td>...</td>\n",
       "    </tr>\n",
       "    <tr>\n",
       "      <th>495</th>\n",
       "      <td>2017-09-12</td>\n",
       "      <td>SDH-YU495</td>\n",
       "      <td>Wang</td>\n",
       "      <td>XS</td>\n",
       "      <td>diamond</td>\n",
       "      <td>15.03</td>\n",
       "      <td>damaged</td>\n",
       "      <td>1.0</td>\n",
       "      <td>0.0</td>\n",
       "      <td>0.0</td>\n",
       "      <td>0.0</td>\n",
       "      <td>0.0</td>\n",
       "    </tr>\n",
       "    <tr>\n",
       "      <th>496</th>\n",
       "      <td>2017-09-13</td>\n",
       "      <td>SDH-YU496</td>\n",
       "      <td>BUCK</td>\n",
       "      <td>M</td>\n",
       "      <td>Stripes</td>\n",
       "      <td>14.49</td>\n",
       "      <td>shipping</td>\n",
       "      <td>0.0</td>\n",
       "      <td>0.0</td>\n",
       "      <td>0.0</td>\n",
       "      <td>0.0</td>\n",
       "      <td>0.0</td>\n",
       "    </tr>\n",
       "    <tr>\n",
       "      <th>497</th>\n",
       "      <td>2017-09-14</td>\n",
       "      <td>SDH-YU497</td>\n",
       "      <td>Kent</td>\n",
       "      <td>XXL</td>\n",
       "      <td>plain</td>\n",
       "      <td>15.61</td>\n",
       "      <td>shipping</td>\n",
       "      <td>0.0</td>\n",
       "      <td>0.0</td>\n",
       "      <td>1.0</td>\n",
       "      <td>0.0</td>\n",
       "      <td>0.0</td>\n",
       "    </tr>\n",
       "    <tr>\n",
       "      <th>498</th>\n",
       "      <td>2017-09-15</td>\n",
       "      <td>SDH-YU498</td>\n",
       "      <td>Yolo</td>\n",
       "      <td>S</td>\n",
       "      <td>plain</td>\n",
       "      <td>13.49</td>\n",
       "      <td>order received</td>\n",
       "      <td>0.0</td>\n",
       "      <td>0.0</td>\n",
       "      <td>0.0</td>\n",
       "      <td>1.0</td>\n",
       "      <td>0.0</td>\n",
       "    </tr>\n",
       "    <tr>\n",
       "      <th>499</th>\n",
       "      <td>2017-09-16</td>\n",
       "      <td>SDH-YU499</td>\n",
       "      <td>BLOT</td>\n",
       "      <td>S</td>\n",
       "      <td>spiral</td>\n",
       "      <td>14.75</td>\n",
       "      <td>shipping</td>\n",
       "      <td>0.0</td>\n",
       "      <td>0.0</td>\n",
       "      <td>0.0</td>\n",
       "      <td>0.0</td>\n",
       "      <td>0.0</td>\n",
       "    </tr>\n",
       "  </tbody>\n",
       "</table>\n",
       "<p>500 rows × 12 columns</p>\n",
       "</div>"
      ],
      "text/plain": [
       "    Date ordered Order number Brand Size   Design  Price Delivery status  \\\n",
       "0     2016-05-05      SDH-YU0  Yolo    L   spiral  14.47         damaged   \n",
       "1     2016-05-06      SDH-YU1  Yolo  XXL   spiral  16.24         delayed   \n",
       "2     2016-05-07      SDH-YU2  BLOT   XL  Stripes  14.32       delivered   \n",
       "3     2016-05-08      SDH-YU3  Kent  XXL    plain  14.07         damaged   \n",
       "4     2016-05-09      SDH-YU4  BUCK   XL   spiral  15.56  order received   \n",
       "..           ...          ...   ...  ...      ...    ...             ...   \n",
       "495   2017-09-12    SDH-YU495  Wang   XS  diamond  15.03         damaged   \n",
       "496   2017-09-13    SDH-YU496  BUCK    M  Stripes  14.49        shipping   \n",
       "497   2017-09-14    SDH-YU497  Kent  XXL    plain  15.61        shipping   \n",
       "498   2017-09-15    SDH-YU498  Yolo    S    plain  13.49  order received   \n",
       "499   2017-09-16    SDH-YU499  BLOT    S   spiral  14.75        shipping   \n",
       "\n",
       "     Color_green  Color_indigo  Color_purple  Color_red  Color_white  \n",
       "0            0.0           0.0           0.0        1.0          0.0  \n",
       "1            1.0           0.0           0.0        0.0          0.0  \n",
       "2            0.0           0.0           0.0        0.0          0.0  \n",
       "3            1.0           0.0           0.0        0.0          0.0  \n",
       "4            0.0           0.0           0.0        0.0          1.0  \n",
       "..           ...           ...           ...        ...          ...  \n",
       "495          1.0           0.0           0.0        0.0          0.0  \n",
       "496          0.0           0.0           0.0        0.0          0.0  \n",
       "497          0.0           0.0           1.0        0.0          0.0  \n",
       "498          0.0           0.0           0.0        1.0          0.0  \n",
       "499          0.0           0.0           0.0        0.0          0.0  \n",
       "\n",
       "[500 rows x 12 columns]"
      ]
     },
     "execution_count": 53,
     "metadata": {},
     "output_type": "execute_result"
    }
   ],
   "source": [
    "df"
   ]
  },
  {
   "cell_type": "markdown",
   "metadata": {
    "id": "nb_2DGrDEQxl"
   },
   "source": [
    "### Binary Encoding"
   ]
  },
  {
   "cell_type": "code",
   "execution_count": 56,
   "metadata": {
    "id": "q37NihkcEQxl"
   },
   "outputs": [],
   "source": [
    "df = pd.read_csv('t-shirts.csv')"
   ]
  },
  {
   "cell_type": "code",
   "execution_count": 60,
   "metadata": {},
   "outputs": [
    {
     "name": "stdout",
     "output_type": "stream",
     "text": [
      "Collecting category_encoders\n",
      "  Using cached category_encoders-2.6.3-py2.py3-none-any.whl.metadata (8.0 kB)\n",
      "Requirement already satisfied: numpy>=1.14.0 in c:\\users\\baraa\\anaconda3\\lib\\site-packages (from category_encoders) (1.26.4)\n",
      "Requirement already satisfied: scikit-learn>=0.20.0 in c:\\users\\baraa\\anaconda3\\lib\\site-packages (from category_encoders) (1.4.2)\n",
      "Requirement already satisfied: scipy>=1.0.0 in c:\\users\\baraa\\anaconda3\\lib\\site-packages (from category_encoders) (1.13.1)\n",
      "Requirement already satisfied: statsmodels>=0.9.0 in c:\\users\\baraa\\anaconda3\\lib\\site-packages (from category_encoders) (0.14.2)\n",
      "Requirement already satisfied: pandas>=1.0.5 in c:\\users\\baraa\\anaconda3\\lib\\site-packages (from category_encoders) (2.2.2)\n",
      "Requirement already satisfied: patsy>=0.5.1 in c:\\users\\baraa\\anaconda3\\lib\\site-packages (from category_encoders) (0.5.6)\n",
      "Requirement already satisfied: python-dateutil>=2.8.2 in c:\\users\\baraa\\anaconda3\\lib\\site-packages (from pandas>=1.0.5->category_encoders) (2.9.0.post0)\n",
      "Requirement already satisfied: pytz>=2020.1 in c:\\users\\baraa\\anaconda3\\lib\\site-packages (from pandas>=1.0.5->category_encoders) (2024.1)\n",
      "Requirement already satisfied: tzdata>=2022.7 in c:\\users\\baraa\\anaconda3\\lib\\site-packages (from pandas>=1.0.5->category_encoders) (2023.3)\n",
      "Requirement already satisfied: six in c:\\users\\baraa\\anaconda3\\lib\\site-packages (from patsy>=0.5.1->category_encoders) (1.16.0)\n",
      "Requirement already satisfied: joblib>=1.2.0 in c:\\users\\baraa\\anaconda3\\lib\\site-packages (from scikit-learn>=0.20.0->category_encoders) (1.4.2)\n",
      "Requirement already satisfied: threadpoolctl>=2.0.0 in c:\\users\\baraa\\anaconda3\\lib\\site-packages (from scikit-learn>=0.20.0->category_encoders) (2.2.0)\n",
      "Requirement already satisfied: packaging>=21.3 in c:\\users\\baraa\\anaconda3\\lib\\site-packages (from statsmodels>=0.9.0->category_encoders) (23.2)\n",
      "Using cached category_encoders-2.6.3-py2.py3-none-any.whl (81 kB)\n",
      "Installing collected packages: category_encoders\n",
      "Successfully installed category_encoders-2.6.3\n",
      "Note: you may need to restart the kernel to use updated packages.\n"
     ]
    }
   ],
   "source": [
    "pip install category_encoders"
   ]
  },
  {
   "cell_type": "code",
   "execution_count": 62,
   "metadata": {
    "id": "lVwMf_5nEQxl"
   },
   "outputs": [],
   "source": [
    "from category_encoders import BinaryEncoder"
   ]
  },
  {
   "cell_type": "code",
   "execution_count": 64,
   "metadata": {
    "id": "rJqayC8BEQxl"
   },
   "outputs": [],
   "source": [
    "encoder = BinaryEncoder()"
   ]
  },
  {
   "cell_type": "code",
   "execution_count": 66,
   "metadata": {
    "id": "0xPJ2L9WEQxl"
   },
   "outputs": [],
   "source": [
    "Transformed_Color_Df = encoder.fit_transform(df[['Color']])"
   ]
  },
  {
   "cell_type": "code",
   "execution_count": 68,
   "metadata": {
    "id": "A8pSb1BYEQxl",
    "outputId": "cb568d48-16e6-45b9-bb94-f3184596d8b3"
   },
   "outputs": [
    {
     "data": {
      "text/html": [
       "<div>\n",
       "<style scoped>\n",
       "    .dataframe tbody tr th:only-of-type {\n",
       "        vertical-align: middle;\n",
       "    }\n",
       "\n",
       "    .dataframe tbody tr th {\n",
       "        vertical-align: top;\n",
       "    }\n",
       "\n",
       "    .dataframe thead th {\n",
       "        text-align: right;\n",
       "    }\n",
       "</style>\n",
       "<table border=\"1\" class=\"dataframe\">\n",
       "  <thead>\n",
       "    <tr style=\"text-align: right;\">\n",
       "      <th></th>\n",
       "      <th>Color_0</th>\n",
       "      <th>Color_1</th>\n",
       "      <th>Color_2</th>\n",
       "    </tr>\n",
       "  </thead>\n",
       "  <tbody>\n",
       "    <tr>\n",
       "      <th>0</th>\n",
       "      <td>0</td>\n",
       "      <td>0</td>\n",
       "      <td>1</td>\n",
       "    </tr>\n",
       "    <tr>\n",
       "      <th>1</th>\n",
       "      <td>0</td>\n",
       "      <td>1</td>\n",
       "      <td>0</td>\n",
       "    </tr>\n",
       "    <tr>\n",
       "      <th>2</th>\n",
       "      <td>0</td>\n",
       "      <td>1</td>\n",
       "      <td>1</td>\n",
       "    </tr>\n",
       "    <tr>\n",
       "      <th>3</th>\n",
       "      <td>0</td>\n",
       "      <td>1</td>\n",
       "      <td>0</td>\n",
       "    </tr>\n",
       "    <tr>\n",
       "      <th>4</th>\n",
       "      <td>1</td>\n",
       "      <td>0</td>\n",
       "      <td>0</td>\n",
       "    </tr>\n",
       "    <tr>\n",
       "      <th>...</th>\n",
       "      <td>...</td>\n",
       "      <td>...</td>\n",
       "      <td>...</td>\n",
       "    </tr>\n",
       "    <tr>\n",
       "      <th>495</th>\n",
       "      <td>0</td>\n",
       "      <td>1</td>\n",
       "      <td>0</td>\n",
       "    </tr>\n",
       "    <tr>\n",
       "      <th>496</th>\n",
       "      <td>0</td>\n",
       "      <td>1</td>\n",
       "      <td>1</td>\n",
       "    </tr>\n",
       "    <tr>\n",
       "      <th>497</th>\n",
       "      <td>1</td>\n",
       "      <td>0</td>\n",
       "      <td>1</td>\n",
       "    </tr>\n",
       "    <tr>\n",
       "      <th>498</th>\n",
       "      <td>0</td>\n",
       "      <td>0</td>\n",
       "      <td>1</td>\n",
       "    </tr>\n",
       "    <tr>\n",
       "      <th>499</th>\n",
       "      <td>0</td>\n",
       "      <td>1</td>\n",
       "      <td>1</td>\n",
       "    </tr>\n",
       "  </tbody>\n",
       "</table>\n",
       "<p>500 rows × 3 columns</p>\n",
       "</div>"
      ],
      "text/plain": [
       "     Color_0  Color_1  Color_2\n",
       "0          0        0        1\n",
       "1          0        1        0\n",
       "2          0        1        1\n",
       "3          0        1        0\n",
       "4          1        0        0\n",
       "..       ...      ...      ...\n",
       "495        0        1        0\n",
       "496        0        1        1\n",
       "497        1        0        1\n",
       "498        0        0        1\n",
       "499        0        1        1\n",
       "\n",
       "[500 rows x 3 columns]"
      ]
     },
     "execution_count": 68,
     "metadata": {},
     "output_type": "execute_result"
    }
   ],
   "source": [
    "Transformed_Color_Df"
   ]
  },
  {
   "cell_type": "code",
   "execution_count": 70,
   "metadata": {
    "id": "VagutSrcEQxl"
   },
   "outputs": [],
   "source": [
    "df = pd.concat([df,Transformed_Color_Df] , axis = 1 )\n"
   ]
  },
  {
   "cell_type": "code",
   "execution_count": 72,
   "metadata": {
    "id": "5yhlGC8kEQxm",
    "outputId": "b333f052-300c-4f6d-b559-a239c4fb6c21"
   },
   "outputs": [
    {
     "data": {
      "text/html": [
       "<div>\n",
       "<style scoped>\n",
       "    .dataframe tbody tr th:only-of-type {\n",
       "        vertical-align: middle;\n",
       "    }\n",
       "\n",
       "    .dataframe tbody tr th {\n",
       "        vertical-align: top;\n",
       "    }\n",
       "\n",
       "    .dataframe thead th {\n",
       "        text-align: right;\n",
       "    }\n",
       "</style>\n",
       "<table border=\"1\" class=\"dataframe\">\n",
       "  <thead>\n",
       "    <tr style=\"text-align: right;\">\n",
       "      <th></th>\n",
       "      <th>Date ordered</th>\n",
       "      <th>Order number</th>\n",
       "      <th>Brand</th>\n",
       "      <th>Size</th>\n",
       "      <th>Color</th>\n",
       "      <th>Design</th>\n",
       "      <th>Price</th>\n",
       "      <th>Delivery status</th>\n",
       "      <th>Color_0</th>\n",
       "      <th>Color_1</th>\n",
       "      <th>Color_2</th>\n",
       "    </tr>\n",
       "  </thead>\n",
       "  <tbody>\n",
       "    <tr>\n",
       "      <th>0</th>\n",
       "      <td>2016-05-05</td>\n",
       "      <td>SDH-YU0</td>\n",
       "      <td>Yolo</td>\n",
       "      <td>L</td>\n",
       "      <td>red</td>\n",
       "      <td>spiral</td>\n",
       "      <td>14.47</td>\n",
       "      <td>damaged</td>\n",
       "      <td>0</td>\n",
       "      <td>0</td>\n",
       "      <td>1</td>\n",
       "    </tr>\n",
       "    <tr>\n",
       "      <th>1</th>\n",
       "      <td>2016-05-06</td>\n",
       "      <td>SDH-YU1</td>\n",
       "      <td>Yolo</td>\n",
       "      <td>XXL</td>\n",
       "      <td>green</td>\n",
       "      <td>spiral</td>\n",
       "      <td>16.24</td>\n",
       "      <td>delayed</td>\n",
       "      <td>0</td>\n",
       "      <td>1</td>\n",
       "      <td>0</td>\n",
       "    </tr>\n",
       "    <tr>\n",
       "      <th>2</th>\n",
       "      <td>2016-05-07</td>\n",
       "      <td>SDH-YU2</td>\n",
       "      <td>BLOT</td>\n",
       "      <td>XL</td>\n",
       "      <td>black</td>\n",
       "      <td>Stripes</td>\n",
       "      <td>14.32</td>\n",
       "      <td>delivered</td>\n",
       "      <td>0</td>\n",
       "      <td>1</td>\n",
       "      <td>1</td>\n",
       "    </tr>\n",
       "    <tr>\n",
       "      <th>3</th>\n",
       "      <td>2016-05-08</td>\n",
       "      <td>SDH-YU3</td>\n",
       "      <td>Kent</td>\n",
       "      <td>XXL</td>\n",
       "      <td>green</td>\n",
       "      <td>plain</td>\n",
       "      <td>14.07</td>\n",
       "      <td>damaged</td>\n",
       "      <td>0</td>\n",
       "      <td>1</td>\n",
       "      <td>0</td>\n",
       "    </tr>\n",
       "    <tr>\n",
       "      <th>4</th>\n",
       "      <td>2016-05-09</td>\n",
       "      <td>SDH-YU4</td>\n",
       "      <td>BUCK</td>\n",
       "      <td>XL</td>\n",
       "      <td>white</td>\n",
       "      <td>spiral</td>\n",
       "      <td>15.56</td>\n",
       "      <td>order received</td>\n",
       "      <td>1</td>\n",
       "      <td>0</td>\n",
       "      <td>0</td>\n",
       "    </tr>\n",
       "    <tr>\n",
       "      <th>...</th>\n",
       "      <td>...</td>\n",
       "      <td>...</td>\n",
       "      <td>...</td>\n",
       "      <td>...</td>\n",
       "      <td>...</td>\n",
       "      <td>...</td>\n",
       "      <td>...</td>\n",
       "      <td>...</td>\n",
       "      <td>...</td>\n",
       "      <td>...</td>\n",
       "      <td>...</td>\n",
       "    </tr>\n",
       "    <tr>\n",
       "      <th>495</th>\n",
       "      <td>2017-09-12</td>\n",
       "      <td>SDH-YU495</td>\n",
       "      <td>Wang</td>\n",
       "      <td>XS</td>\n",
       "      <td>green</td>\n",
       "      <td>diamond</td>\n",
       "      <td>15.03</td>\n",
       "      <td>damaged</td>\n",
       "      <td>0</td>\n",
       "      <td>1</td>\n",
       "      <td>0</td>\n",
       "    </tr>\n",
       "    <tr>\n",
       "      <th>496</th>\n",
       "      <td>2017-09-13</td>\n",
       "      <td>SDH-YU496</td>\n",
       "      <td>BUCK</td>\n",
       "      <td>M</td>\n",
       "      <td>black</td>\n",
       "      <td>Stripes</td>\n",
       "      <td>14.49</td>\n",
       "      <td>shipping</td>\n",
       "      <td>0</td>\n",
       "      <td>1</td>\n",
       "      <td>1</td>\n",
       "    </tr>\n",
       "    <tr>\n",
       "      <th>497</th>\n",
       "      <td>2017-09-14</td>\n",
       "      <td>SDH-YU497</td>\n",
       "      <td>Kent</td>\n",
       "      <td>XXL</td>\n",
       "      <td>purple</td>\n",
       "      <td>plain</td>\n",
       "      <td>15.61</td>\n",
       "      <td>shipping</td>\n",
       "      <td>1</td>\n",
       "      <td>0</td>\n",
       "      <td>1</td>\n",
       "    </tr>\n",
       "    <tr>\n",
       "      <th>498</th>\n",
       "      <td>2017-09-15</td>\n",
       "      <td>SDH-YU498</td>\n",
       "      <td>Yolo</td>\n",
       "      <td>S</td>\n",
       "      <td>red</td>\n",
       "      <td>plain</td>\n",
       "      <td>13.49</td>\n",
       "      <td>order received</td>\n",
       "      <td>0</td>\n",
       "      <td>0</td>\n",
       "      <td>1</td>\n",
       "    </tr>\n",
       "    <tr>\n",
       "      <th>499</th>\n",
       "      <td>2017-09-16</td>\n",
       "      <td>SDH-YU499</td>\n",
       "      <td>BLOT</td>\n",
       "      <td>S</td>\n",
       "      <td>black</td>\n",
       "      <td>spiral</td>\n",
       "      <td>14.75</td>\n",
       "      <td>shipping</td>\n",
       "      <td>0</td>\n",
       "      <td>1</td>\n",
       "      <td>1</td>\n",
       "    </tr>\n",
       "  </tbody>\n",
       "</table>\n",
       "<p>500 rows × 11 columns</p>\n",
       "</div>"
      ],
      "text/plain": [
       "    Date ordered Order number Brand Size   Color   Design  Price  \\\n",
       "0     2016-05-05      SDH-YU0  Yolo    L     red   spiral  14.47   \n",
       "1     2016-05-06      SDH-YU1  Yolo  XXL   green   spiral  16.24   \n",
       "2     2016-05-07      SDH-YU2  BLOT   XL   black  Stripes  14.32   \n",
       "3     2016-05-08      SDH-YU3  Kent  XXL   green    plain  14.07   \n",
       "4     2016-05-09      SDH-YU4  BUCK   XL   white   spiral  15.56   \n",
       "..           ...          ...   ...  ...     ...      ...    ...   \n",
       "495   2017-09-12    SDH-YU495  Wang   XS   green  diamond  15.03   \n",
       "496   2017-09-13    SDH-YU496  BUCK    M   black  Stripes  14.49   \n",
       "497   2017-09-14    SDH-YU497  Kent  XXL  purple    plain  15.61   \n",
       "498   2017-09-15    SDH-YU498  Yolo    S     red    plain  13.49   \n",
       "499   2017-09-16    SDH-YU499  BLOT    S   black   spiral  14.75   \n",
       "\n",
       "    Delivery status  Color_0  Color_1  Color_2  \n",
       "0           damaged        0        0        1  \n",
       "1           delayed        0        1        0  \n",
       "2         delivered        0        1        1  \n",
       "3           damaged        0        1        0  \n",
       "4    order received        1        0        0  \n",
       "..              ...      ...      ...      ...  \n",
       "495         damaged        0        1        0  \n",
       "496        shipping        0        1        1  \n",
       "497        shipping        1        0        1  \n",
       "498  order received        0        0        1  \n",
       "499        shipping        0        1        1  \n",
       "\n",
       "[500 rows x 11 columns]"
      ]
     },
     "execution_count": 72,
     "metadata": {},
     "output_type": "execute_result"
    }
   ],
   "source": [
    "df"
   ]
  },
  {
   "cell_type": "markdown",
   "metadata": {
    "id": "9UuHRNEuEQxm"
   },
   "source": [
    "#### If you want to decode the features again"
   ]
  },
  {
   "cell_type": "code",
   "execution_count": 75,
   "metadata": {
    "id": "Pth3dVQSEQxm",
    "outputId": "73f43a1d-92e8-419e-da09-1bb8e34b550a"
   },
   "outputs": [
    {
     "data": {
      "text/html": [
       "<div>\n",
       "<style scoped>\n",
       "    .dataframe tbody tr th:only-of-type {\n",
       "        vertical-align: middle;\n",
       "    }\n",
       "\n",
       "    .dataframe tbody tr th {\n",
       "        vertical-align: top;\n",
       "    }\n",
       "\n",
       "    .dataframe thead th {\n",
       "        text-align: right;\n",
       "    }\n",
       "</style>\n",
       "<table border=\"1\" class=\"dataframe\">\n",
       "  <thead>\n",
       "    <tr style=\"text-align: right;\">\n",
       "      <th></th>\n",
       "      <th>Color</th>\n",
       "    </tr>\n",
       "  </thead>\n",
       "  <tbody>\n",
       "    <tr>\n",
       "      <th>0</th>\n",
       "      <td>red</td>\n",
       "    </tr>\n",
       "    <tr>\n",
       "      <th>1</th>\n",
       "      <td>green</td>\n",
       "    </tr>\n",
       "    <tr>\n",
       "      <th>2</th>\n",
       "      <td>black</td>\n",
       "    </tr>\n",
       "    <tr>\n",
       "      <th>3</th>\n",
       "      <td>green</td>\n",
       "    </tr>\n",
       "    <tr>\n",
       "      <th>4</th>\n",
       "      <td>white</td>\n",
       "    </tr>\n",
       "    <tr>\n",
       "      <th>...</th>\n",
       "      <td>...</td>\n",
       "    </tr>\n",
       "    <tr>\n",
       "      <th>495</th>\n",
       "      <td>green</td>\n",
       "    </tr>\n",
       "    <tr>\n",
       "      <th>496</th>\n",
       "      <td>black</td>\n",
       "    </tr>\n",
       "    <tr>\n",
       "      <th>497</th>\n",
       "      <td>purple</td>\n",
       "    </tr>\n",
       "    <tr>\n",
       "      <th>498</th>\n",
       "      <td>red</td>\n",
       "    </tr>\n",
       "    <tr>\n",
       "      <th>499</th>\n",
       "      <td>black</td>\n",
       "    </tr>\n",
       "  </tbody>\n",
       "</table>\n",
       "<p>500 rows × 1 columns</p>\n",
       "</div>"
      ],
      "text/plain": [
       "      Color\n",
       "0       red\n",
       "1     green\n",
       "2     black\n",
       "3     green\n",
       "4     white\n",
       "..      ...\n",
       "495   green\n",
       "496   black\n",
       "497  purple\n",
       "498     red\n",
       "499   black\n",
       "\n",
       "[500 rows x 1 columns]"
      ]
     },
     "execution_count": 75,
     "metadata": {},
     "output_type": "execute_result"
    }
   ],
   "source": [
    "encoder.inverse_transform(Transformed_Color_Df)"
   ]
  },
  {
   "cell_type": "code",
   "execution_count": 77,
   "metadata": {
    "id": "8SIg2eigEQxm",
    "outputId": "9bf36033-38a9-4417-e1da-c767f7003943"
   },
   "outputs": [
    {
     "data": {
      "text/plain": [
       "0         red\n",
       "1       green\n",
       "2       black\n",
       "3       green\n",
       "4       white\n",
       "        ...  \n",
       "495     green\n",
       "496     black\n",
       "497    purple\n",
       "498       red\n",
       "499     black\n",
       "Name: Color, Length: 500, dtype: object"
      ]
     },
     "execution_count": 77,
     "metadata": {},
     "output_type": "execute_result"
    }
   ],
   "source": [
    "df['Color']"
   ]
  },
  {
   "cell_type": "markdown",
   "metadata": {
    "id": "14r4kAnbEQxm"
   },
   "source": [
    "# Great Work!"
   ]
  }
 ],
 "metadata": {
  "colab": {
   "provenance": []
  },
  "kernelspec": {
   "display_name": "Python 3 (ipykernel)",
   "language": "python",
   "name": "python3"
  },
  "language_info": {
   "codemirror_mode": {
    "name": "ipython",
    "version": 3
   },
   "file_extension": ".py",
   "mimetype": "text/x-python",
   "name": "python",
   "nbconvert_exporter": "python",
   "pygments_lexer": "ipython3",
   "version": "3.12.3"
  }
 },
 "nbformat": 4,
 "nbformat_minor": 4
}
