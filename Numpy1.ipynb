{
 "cells": [
  {
   "cell_type": "code",
   "execution_count": null,
   "metadata": {},
   "outputs": [
    {
     "data": {
      "text/plain": [
       "array([1, 2, 3])"
      ]
     },
     "execution_count": 2,
     "metadata": {},
     "output_type": "execute_result"
    }
   ],
   "source": [
    "import numpy as np\n",
    "my_array= np.array([1,2,3]) #1D Array one raw and 3 columns\n",
    "my_array"
   ]
  },
  {
   "cell_type": "code",
   "execution_count": null,
   "metadata": {},
   "outputs": [
    {
     "data": {
      "text/plain": [
       "array([[1, 2, 3],\n",
       "       [4, 5, 6]])"
      ]
     },
     "execution_count": 4,
     "metadata": {},
     "output_type": "execute_result"
    }
   ],
   "source": [
    "import numpy as np\n",
    "my_array = np.array([(1,2,3),(4,5,6)]) #2D array 2 rows and 3 columns\n",
    "my_array \n"
   ]
  },
  {
   "cell_type": "code",
   "execution_count": null,
   "metadata": {},
   "outputs": [
    {
     "data": {
      "text/plain": [
       "(2, 2, 3)"
      ]
     },
     "execution_count": 8,
     "metadata": {},
     "output_type": "execute_result"
    }
   ],
   "source": [
    "import numpy as np\n",
    "my_2array = np.array ((([1,2,3],[3,5,6]),([7,8,9],[9,10,11])))\n",
    "my_2array #3D array 2layers,2 rows , 3 columns\n",
    "my_2array.shape"
   ]
  },
  {
   "cell_type": "code",
   "execution_count": 26,
   "metadata": {},
   "outputs": [
    {
     "name": "stdout",
     "output_type": "stream",
     "text": [
      "[[0. 0.]]\n",
      "[[0. 0.]]\n",
      "[[0.62976448 0.87559624 0.03552553 0.4341485  0.14425995]\n",
      " [0.44423144 0.43441069 0.05446789 0.71402358 0.32224461]\n",
      " [0.20269016 0.34822861 0.84614621 0.61345418 0.81748778]\n",
      " [0.80953309 0.6688377  0.85325984 0.51362824 0.10093141]\n",
      " [0.22555264 0.4144581  0.63747887 0.52108017 0.22946137]]\n",
      "[[2 3 2]\n",
      " [2 1 1]\n",
      " [3 5 4]]\n",
      "int32\n"
     ]
    }
   ],
   "source": [
    "import numpy as np\n",
    "zero_array= np.zeros([1,2]) #1D array with 2 coumns [] indecade the num of columns in the 1 d array\n",
    "zero1_array= np.zeros((1,2)) \n",
    "print(zero_array)\n",
    "print(zero1_array)\n",
    "random_array=np.random.random((5,5))\n",
    "print(random_array)\n",
    "random_int= np.random.randint (1,10,(3,3)) # int values from 1 to 10 3*3 matrix\n",
    "print(random_int)\n",
    "print(random_int.dtype)\n",
    "# when using the functions .zeros,.ones,.random.rand what we type in the parentheses is the shape of the array\n",
    "# when typing a manual array what we type is the array elements\n"
   ]
  },
  {
   "cell_type": "code",
   "execution_count": 75,
   "metadata": {},
   "outputs": [
    {
     "name": "stdout",
     "output_type": "stream",
     "text": [
      "[[0.68072041 0.63630906 0.20821256 0.17433448]\n",
      " [0.03239176 0.10869637 0.79272725 0.12079052]\n",
      " [0.78147435 0.21724188 0.7083544  0.43560283]\n",
      " [0.27475906 0.53477905 0.52901265 0.02123666]\n",
      " [0.97552689 0.31455782 0.02509787 0.10325399]]\n",
      "(5, 4)\n",
      "<class 'numpy.ndarray'>\n",
      "0.021236657959629146\n",
      "0.9755268943112817\n",
      "0.38375399390637377\n",
      "7.675079878127476\n"
     ]
    }
   ],
   "source": [
    "import numpy as np \n",
    "myarray= np.random.random((5,4))\n",
    "print(myarray)\n",
    "print(myarray.shape)\n",
    "print(type(myarray))\n",
    "print(myarray.min())\n",
    "print(myarray.max())\n",
    "print(np.mean(myarray))\n",
    "print(np.sum(myarray))"
   ]
  },
  {
   "cell_type": "code",
   "execution_count": 76,
   "metadata": {},
   "outputs": [
    {
     "name": "stdout",
     "output_type": "stream",
     "text": [
      "[0 1 2 3 4 5 6 7 8 9]\n",
      "[ 0  1  2  3  4  5  6  7  8  9 10 11 12]\n",
      "[ 0  3  6  9 12]\n",
      "[0.   0.75 1.5  2.25 3.  ]\n"
     ]
    }
   ],
   "source": [
    "import numpy as np\n",
    "range_array=np.arange(10) #10 items from 0 to 9\n",
    "print(range_array)\n",
    "range2_array = np.arange (0,13) #12 items starting with zero to 12\n",
    "print(range2_array)\n",
    "range3_array = np.arange(0,13,3) # 3 spaces betweem each item\n",
    "print(range3_array)\n",
    "linespace_array = np.linspace (0,3,5) # i want 5 items between 0 ansd 3\n",
    "print(linespace_array)\n"
   ]
  },
  {
   "cell_type": "code",
   "execution_count": 77,
   "metadata": {},
   "outputs": [
    {
     "name": "stdout",
     "output_type": "stream",
     "text": [
      "1\n",
      "7\n",
      "[2 3 4]\n",
      "[[1 2 3]\n",
      " [4 5 6]\n",
      " [7 8 9]]\n",
      "3\n"
     ]
    }
   ],
   "source": [
    "### array slicing ###\n",
    "array=np.array((1,2,3,4,7))\n",
    "print(array[0])\n",
    "print(array[-1])\n",
    "print(array[1:4]) #items 1,2,3\n",
    "#2d array\n",
    "array1= np.array([[1,2,3],[4,5,6],[7,8,9]]) \n",
    "print(array1)\n",
    "print(array1[0,2])"
   ]
  },
  {
   "cell_type": "code",
   "execution_count": 78,
   "metadata": {},
   "outputs": [
    {
     "name": "stdout",
     "output_type": "stream",
     "text": [
      "[[ 5 10 20]\n",
      " [20 25 30]\n",
      " [35 40 10]]\n",
      "[20 25 30]\n",
      "[ 5 10 20]\n",
      "25\n",
      "25\n",
      "[[10 20]\n",
      " [25 30]]\n",
      "[[10 20]]\n",
      "[35 40 10]\n",
      "[10]\n"
     ]
    }
   ],
   "source": [
    "matrix=np.array(([5,10,20],[20,25,30],[35,40,10]))\n",
    "print(matrix)\n",
    "print(matrix[1]) # second row\n",
    "print(matrix[0])# first row\n",
    "print(matrix[1][1]) # second row, second element\n",
    "print(matrix[1,1]) \n",
    "print(matrix[:2,1:]) # reacing the first 2 rows and the second 2 columns\n",
    "print(matrix[:1,1:]) # reaching the first row and the second 2 columns\n",
    "print(matrix[2,:]) # reaching all the elements in the 3rd row\n",
    "print(matrix[0,1::2]) # reaching the first row , second 2 columns with 2 stepsize"
   ]
  },
  {
   "cell_type": "code",
   "execution_count": 79,
   "metadata": {},
   "outputs": [
    {
     "name": "stdout",
     "output_type": "stream",
     "text": [
      "[ 0  1  2  3  4  5  6  7  8  9 10 11]\n",
      "[False False False False False  True  True  True  True  True  True  True]\n",
      "[ 5  6  7  8  9 10 11]\n",
      "[ 2  3  4  5  6  7  8  9 10 11]\n"
     ]
    }
   ],
   "source": [
    "a=np.arange(0,12)\n",
    "bool_a= a>4\n",
    "print(a)\n",
    "print(bool_a) #the boolen array of a>4\n",
    "print(a[bool_a]) # the actual array of the boolen array\n",
    "print(a[a>1]) # the actual array of the boolen a>1"
   ]
  },
  {
   "cell_type": "code",
   "execution_count": 80,
   "metadata": {},
   "outputs": [
    {
     "name": "stdout",
     "output_type": "stream",
     "text": [
      "[ 8 10 12 14 16]\n",
      "[ 8 10 12 14 16]\n",
      "[-6 -6 -6 -6 -6]\n",
      "[-6 -6 -6 -6 -6]\n",
      "[ 7 16 27 40 55]\n",
      "[ 7 16 27 40 55]\n",
      "[19 20 21 22 23]\n",
      "[ 3  6  9 12 15]\n",
      "[ 3.3  6.6  9.9 13.2 16.5]\n"
     ]
    },
    {
     "ename": "TypeError",
     "evalue": "can't multiply sequence by non-int of type 'float'",
     "output_type": "error",
     "traceback": [
      "\u001b[1;31m---------------------------------------------------------------------------\u001b[0m",
      "\u001b[1;31mTypeError\u001b[0m                                 Traceback (most recent call last)",
      "Cell \u001b[1;32mIn[80], line 13\u001b[0m\n\u001b[0;32m     11\u001b[0m \u001b[38;5;28mprint\u001b[39m(arr1\u001b[38;5;241m*\u001b[39m\u001b[38;5;241m3.3\u001b[39m) \u001b[38;5;66;03m# we can multiply arrays by float but cant multiply sequence by float\u001b[39;00m\n\u001b[0;32m     12\u001b[0m b\u001b[38;5;241m=\u001b[39m[\u001b[38;5;241m1\u001b[39m,\u001b[38;5;241m2\u001b[39m,\u001b[38;5;241m3\u001b[39m,\u001b[38;5;241m4\u001b[39m,\u001b[38;5;241m5\u001b[39m] \n\u001b[1;32m---> 13\u001b[0m \u001b[38;5;28mprint\u001b[39m(\u001b[43mb\u001b[49m\u001b[38;5;241;43m*\u001b[39;49m\u001b[38;5;241;43m3.3\u001b[39;49m)\n",
      "\u001b[1;31mTypeError\u001b[0m: can't multiply sequence by non-int of type 'float'"
     ]
    }
   ],
   "source": [
    "arr1=np.array([1,2,3,4,5])\n",
    "arr2=np.array([7,8,9,10,11])\n",
    "print(arr1+arr2) # adding arrays values\n",
    "print(np.add(arr1,arr2))\n",
    "print(arr1-arr2) # substracting \n",
    "print(np.subtract(arr1,arr2))\n",
    "print(arr1*arr2) #multiplying array vlue\n",
    "print(np.multiply(arr1,arr2))\n",
    "print(arr2+12) # add 12 to each element in array2 \n",
    "print(arr1*3) # multiply each element in array 1 by 3 \n",
    "print(arr1*3.3) # we can multiply arrays by float but cant multiply sequence by float\n",
    "b=[1,2,3,4,5] \n",
    "print(b*3.3)"
   ]
  },
  {
   "cell_type": "code",
   "execution_count": null,
   "metadata": {},
   "outputs": [
    {
     "name": "stdout",
     "output_type": "stream",
     "text": [
      "[[ 2  6  6]\n",
      " [11 13 13]\n",
      " [21 32 41]]\n"
     ]
    }
   ],
   "source": [
    "x= np.array([[1,4,5],[10,11,12],[20,30,40]])\n",
    "v=np.array([1,2,1])\n",
    "y=np.empty_like(x) # creating a new empty matrix with the same shape of x \n",
    "#ADDING V TO EACH ROW OF X\n",
    "for i in range(3): # in range (num of rows)\n",
    "    y[i,:]= x[i, :]+v # i REPRESENTS THE ROW AND : REPRESENTS ALL THE COLUMNS\n",
    "print (y)\n"
   ]
  },
  {
   "cell_type": "code",
   "execution_count": null,
   "metadata": {},
   "outputs": [
    {
     "name": "stdout",
     "output_type": "stream",
     "text": [
      "50\n"
     ]
    },
    {
     "ename": "ValueError",
     "evalue": "shapes (2,3) and (2,3) not aligned: 3 (dim 1) != 2 (dim 0)",
     "output_type": "error",
     "traceback": [
      "\u001b[1;31m---------------------------------------------------------------------------\u001b[0m",
      "\u001b[1;31mValueError\u001b[0m                                Traceback (most recent call last)",
      "Cell \u001b[1;32mIn[63], line 9\u001b[0m\n\u001b[0;32m      7\u001b[0m A\u001b[38;5;241m=\u001b[39m np\u001b[38;5;241m.\u001b[39marray(([\u001b[38;5;241m5\u001b[39m,\u001b[38;5;241m6\u001b[39m,\u001b[38;5;241m7\u001b[39m],[\u001b[38;5;241m9\u001b[39m,\u001b[38;5;241m8\u001b[39m,\u001b[38;5;241m3\u001b[39m]))\n\u001b[0;32m      8\u001b[0m B\u001b[38;5;241m=\u001b[39mnp\u001b[38;5;241m.\u001b[39marray(([\u001b[38;5;241m1\u001b[39m,\u001b[38;5;241m4\u001b[39m,\u001b[38;5;241m6\u001b[39m],[\u001b[38;5;241m5\u001b[39m,\u001b[38;5;241m4\u001b[39m,\u001b[38;5;241m7\u001b[39m]))\n\u001b[1;32m----> 9\u001b[0m Result\u001b[38;5;241m=\u001b[39m\u001b[43mnp\u001b[49m\u001b[38;5;241;43m.\u001b[39;49m\u001b[43mdot\u001b[49m\u001b[43m(\u001b[49m\u001b[43mA\u001b[49m\u001b[43m,\u001b[49m\u001b[43mB\u001b[49m\u001b[43m)\u001b[49m\n\u001b[0;32m     10\u001b[0m \u001b[38;5;28mprint\u001b[39m(Result)\n",
      "\u001b[1;31mValueError\u001b[0m: shapes (2,3) and (2,3) not aligned: 3 (dim 1) != 2 (dim 0)"
     ]
    }
   ],
   "source": [
    "#dot product of two 1d arrays\n",
    "a= np.array([1,2,3])\n",
    "b= np.array([7,8,9])\n",
    "result= np.dot(a,b) # 1*7+2*8+3+9\n",
    "print(result)\n",
    "#dot product of two 2d arrays\n",
    "A= np.array(([5,6,7],[9,8,3]))\n",
    "B=np.array(([1,4,6],[5,4,7])) \n",
    "Result=np.dot(A,B) # dot product in 2d arrays only works when the num of columns in the first matrix matches the num of rows in the second matrix\n",
    "print(Result)"
   ]
  },
  {
   "cell_type": "code",
   "execution_count": null,
   "metadata": {},
   "outputs": [
    {
     "name": "stdout",
     "output_type": "stream",
     "text": [
      "[[ 35  44  72]\n",
      " [ 49  68 110]]\n",
      "[[35 62]\n",
      " [49 92]]\n",
      "[[ 5 24]\n",
      " [45 56]]\n"
     ]
    }
   ],
   "source": [
    "#dot product of two 2d arrays\n",
    "A= np.array(([5,6],[9,8]))\n",
    "B=np.array(([1,4,6],[5,4,7]))\n",
    "Result=np.dot(A,B)\n",
    "print(Result)\n",
    "C=np.array(([5,6],[9,8]))\n",
    "D= np.array(([1,4],[5,7]))\n",
    "Result1= np.dot(C,D)\n",
    "print(Result1)\n",
    "Result2=C*D # Matrix multiplications\n",
    "print(Result2)"
   ]
  },
  {
   "cell_type": "code",
   "execution_count": 89,
   "metadata": {},
   "outputs": [
    {
     "name": "stdout",
     "output_type": "stream",
     "text": [
      "[[ 1  2  3  4  5]\n",
      " [ 6  7  8  9 10]\n",
      " [11 12 13 14 15]\n",
      " [16 17 18 19 20]\n",
      " [21 22 23 24 25]\n",
      " [26 27 28 29 30]]\n",
      "[[11 12]\n",
      " [16 17]]\n",
      "2 8 14 20\n",
      "[[ 0  2  0  0  0]\n",
      " [ 0  0  8  0  0]\n",
      " [ 0  0  0 14  0]\n",
      " [ 0  0  0  0 20]\n",
      " [ 0  0  0  0  0]\n",
      " [ 0  0  0  0  0]]\n",
      "[[ 0  0  0  4  5]\n",
      " [ 0  0  0  0  0]\n",
      " [ 0  0  0  0  0]\n",
      " [ 0  0  0  0  0]\n",
      " [ 0  0  0 24 25]\n",
      " [ 0  0  0 29 30]]\n"
     ]
    }
   ],
   "source": [
    "#Task1 Slicing\n",
    "AB= np.array(([1,2,3,4,5],[6,7,8,9,10],[11,12,13,14,15],[16,17,18,19,20],[21,22,23,24,25],[26,27,28,29,30]))\n",
    "print(AB)\n",
    "print(AB[2:4,0:2])\n",
    "print(AB[0,1],AB[1,2],AB[2,3],AB[3,4]) #accessing individual elements\n",
    "ABC= np.zeros_like(AB)\n",
    "ABC[0,1]=AB[0,1]\n",
    "ABC[1,2]=AB[1,2]\n",
    "ABC[2,3]=AB[2,3]\n",
    "ABC[3,4]=AB[3,4]\n",
    "print(ABC) \n",
    "ABD= np.zeros_like(AB)\n",
    "ABD[0,3:5] = AB[0,3:5]\n",
    "ABD[4:6,3:5]=AB[4:6,3:5]\n",
    "print(ABD)\n"
   ]
  },
  {
   "cell_type": "code",
   "execution_count": 95,
   "metadata": {},
   "outputs": [
    {
     "name": "stdout",
     "output_type": "stream",
     "text": [
      "[[1 2 3]\n",
      " [4 5 6]\n",
      " [7 8 9]]\n",
      "[[1 0 0]\n",
      " [0 2 0]\n",
      " [0 0 3]]\n",
      "[[1. 0. 0.]\n",
      " [0. 1. 0.]\n",
      " [0. 0. 1.]]\n",
      "[[1 2 3]\n",
      " [0 1 5]\n",
      " [0 0 7]]\n",
      "[[0 0 2]\n",
      " [0 1 2]\n",
      " [2 2 3]]\n"
     ]
    }
   ],
   "source": [
    "#Special matrices shapes \n",
    "S_matrix=np.array(([1,2,3],[4,5,6],[7,8,9])) #Square matrix\n",
    "print(S_matrix)\n",
    "# diagonal \\ matrix\n",
    "D_matrix=np.diag([1,2,3])\n",
    "print(D_matrix)\n",
    "# identity matrix\n",
    "I_matrix=np.eye(3) #The np.eye(3) function creates a 3x3 identity matrix. Identity matrices are used as the multiplicative identity in matrix algebra.\n",
    "print(I_matrix)\n",
    "#Upper traingle \n",
    "U_matrix=np.array(([1,2,3],[0,1,5],[0,0,7])) # THE TRIANGLE BASE IN THE UPPER ROWS\n",
    "print(U_matrix)\n",
    "L_matrix=np.array(([0,0,2],[0,1,2],[2,2,3]))\n",
    "print(L_matrix)"
   ]
  },
  {
   "cell_type": "code",
   "execution_count": null,
   "metadata": {},
   "outputs": [
    {
     "name": "stdout",
     "output_type": "stream",
     "text": [
      "[[1 4 7]\n",
      " [2 5 8]\n",
      " [3 6 9]]\n"
     ]
    }
   ],
   "source": [
    "# TRANSPOSE\n",
    "Matrixx=np.array(([1,2,3],[4,5,6],[7,8,9]))\n",
    "Result3=np.transpose(Matrixx) # switches rows and columns\n",
    "print(Result3)\n",
    "#Symmetric matrix remains the same after transposing\n"
   ]
  },
  {
   "cell_type": "code",
   "execution_count": 101,
   "metadata": {},
   "outputs": [
    {
     "name": "stdout",
     "output_type": "stream",
     "text": [
      "Trace of the matrix: 15\n",
      "14.000000000000004\n",
      "[[ 0.57142857 -0.42857143]\n",
      " [-0.21428571  0.28571429]]\n",
      "2\n"
     ]
    }
   ],
   "source": [
    "#Special calculations\n",
    "M=np.array(([1,2,3],[4,5,6],[7,8,9]))\n",
    "trace=np.trace(M)\n",
    "print('Trace of the matrix:',trace) # The np.trace() function calculates the trace of a matrix, which is often used in machine learning algorithms and various mathematical computations.\n",
    "F=np.array(([4,6],[3,8]))\n",
    "determinant= np.linalg.det(F) #A scalar value that is a function of a square matrix, often used in solving linear equations, calculating matrix inverses, and more\n",
    "print(determinant)\n",
    "inverse=np.linalg.inv(F) #A matrix that, when multiplied with the original matrix, yields the identity matrix.\n",
    "print(inverse)\n",
    "rank=np.linalg.matrix_rank(M) #The rank of a matrix is the maximum number of linearly independent column vectors in the matrix.\n",
    "print(rank)"
   ]
  },
  {
   "cell_type": "code",
   "execution_count": null,
   "metadata": {},
   "outputs": [
    {
     "name": "stdout",
     "output_type": "stream",
     "text": [
      "[0 1 2 3 4 5 6 7 8 9]\n",
      "[[1. 0. 0.]\n",
      " [0. 1. 0.]\n",
      " [0. 0. 1.]]\n",
      "[1 3 5 7 9]\n",
      "[np.int64(1), np.int64(3), np.int64(5), np.int64(7), np.int64(9)]\n",
      "[ 1  2  3  4  5  6  7  8  9 10 11 12]\n",
      "[[ 1  2  3  4]\n",
      " [ 5  6  7  8]\n",
      " [ 9 10 11 12]]\n",
      "[[0.08093592 0.82126818 0.3658978  0.67369328 0.9247381 ]\n",
      " [0.9815281  0.06142918 0.89029182 0.85836761 0.98503891]\n",
      " [0.84057496 0.00638947 0.98610323 0.14217568 0.210723  ]\n",
      " [0.74033688 0.41172565 0.53801281 0.72223584 0.28323755]\n",
      " [0.20277643 0.47129912 0.03856083 0.83111092 0.52731821]]\n",
      "[[0.07609003 0.83175183 0.36695241 0.6811212  0.93736423]\n",
      " [0.99533014 0.05617938 0.90220469 0.86961945 0.99891365]\n",
      " [0.85145839 0.         1.         0.13859784 0.20856452]\n",
      " [0.74914474 0.41372919 0.54263129 0.7306689  0.28258058]\n",
      " [0.20045341 0.47453621 0.03283751 0.84179837 0.53171524]]\n",
      "[[ 22  28]\n",
      " [ 49  64]\n",
      " [ 76 100]\n",
      " [ 57  72]\n",
      " [ 48  60]]\n",
      "[ 0  1  2  3  4  5  6  7  8  9 10]\n",
      "[ 0  1  2 -3 -4 -5 -6 -7 -8  9 10]\n"
     ]
    }
   ],
   "source": [
    "#Task2\n",
    "D1= np.arange(0,10)\n",
    "print(D1)\n",
    "Ident=np.eye(3)\n",
    "print(Ident)\n",
    "odd=D1[D1 %2 !=0]\n",
    "print(odd) \n",
    "odd1=[]\n",
    "for number in D1:\n",
    "    if number %2 !=0:\n",
    "        odd1.append(number)\n",
    "\n",
    "print(odd1)\n",
    "D2= np.arange(1,13)\n",
    "print(D2)\n",
    "D3=D2.reshape(3,4) # to reshape a 1d array into a 2d array the size must match\n",
    "# THE SIZE OF D2 IS 12 AND THE SIZA OF D3 IS 12=3*4\n",
    "print(D3)\n",
    "D4=np.random.random((5,5))\n",
    "print(D4)\n",
    "Normalized= (D4-D4.min())/(D4.max()-D4.min()) # normalization formula\n",
    "print(Normalized)\n",
    "D5=np.array(([1,2,3],[4,5,6],[7,8,9],[2,5,8],[1,4,7])) #np.random.random((5,3))\n",
    "D6=np.array(([1,2],[3,4],[5,6]))\n",
    "result4=np.dot(D5,D6)\n",
    "print(result4)\n",
    "D7=np.arange(11)\n",
    "print(D7)\n",
    "D7[(D7 >= 3) & (D7 <= 8)] *= -1\n",
    "#D7[3:9]*=-1\n",
    "print(D7)\n"
   ]
  }
 ],
 "metadata": {
  "kernelspec": {
   "display_name": "Python 3",
   "language": "python",
   "name": "python3"
  },
  "language_info": {
   "codemirror_mode": {
    "name": "ipython",
    "version": 3
   },
   "file_extension": ".py",
   "mimetype": "text/x-python",
   "name": "python",
   "nbconvert_exporter": "python",
   "pygments_lexer": "ipython3",
   "version": "3.12.2"
  }
 },
 "nbformat": 4,
 "nbformat_minor": 2
}
