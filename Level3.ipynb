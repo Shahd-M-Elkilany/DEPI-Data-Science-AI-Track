{
 "cells": [
  {
   "cell_type": "code",
   "execution_count": 6,
   "id": "17811b5f-ab3a-4957-b9f1-e38fb317c6b5",
   "metadata": {},
   "outputs": [
    {
     "name": "stdout",
     "output_type": "stream",
     "text": [
      "Collecting pymysql\n",
      "  Using cached PyMySQL-1.1.1-py3-none-any.whl.metadata (4.4 kB)\n",
      "Using cached PyMySQL-1.1.1-py3-none-any.whl (44 kB)\n",
      "Installing collected packages: pymysql\n",
      "Successfully installed pymysql-1.1.1\n",
      "Note: you may need to restart the kernel to use updated packages.\n"
     ]
    }
   ],
   "source": [
    "pip install pymysql\n"
   ]
  },
  {
   "cell_type": "code",
   "execution_count": 14,
   "id": "e02c740c-07de-477b-9c3d-bd0b15667834",
   "metadata": {},
   "outputs": [
    {
     "name": "stdout",
     "output_type": "stream",
     "text": [
      "   product_id                   product_name  total_sales_revenue\n",
      "0           7       Trek Slash 8 27.5 - 2016            615998.46\n",
      "1           9           Trek Conduit+ - 2016            434998.55\n",
      "2           4       Trek Fuel EX 8 29 - 2016            414698.57\n",
      "3          11    Surly Straggler 650b - 2016            253829.49\n",
      "4          56  Trek Domane SLR 6 Disc - 2017            236499.57\n"
     ]
    }
   ],
   "source": [
    "import pandas as pd\n",
    "from sqlalchemy import create_engine\n",
    "\n",
    "# Set up the SQLAlchemy engine to connect to the MySQL database\n",
    "engine = create_engine('mysql+pymysql://root:@localhost/bikeshahd')\n",
    "\n",
    "# SQL query to get the top 5 products with the highest total sales revenue\n",
    "query = \"\"\"\n",
    "    SELECT p.product_id, p.product_name, SUM(oi.list_price * oi.quantity) AS total_sales_revenue\n",
    "    FROM order_items oi\n",
    "    JOIN products p ON oi.product_id = p.product_id\n",
    "    GROUP BY p.product_id, p.product_name\n",
    "    ORDER BY total_sales_revenue DESC\n",
    "    LIMIT 5;\n",
    "\"\"\"\n",
    "\n",
    "# Execute the query using pandas and SQLAlchemy engine\n",
    "top_5_products = pd.read_sql(query, engine)\n",
    "\n",
    "# Display the result\n",
    "print(top_5_products)\n"
   ]
  },
  {
   "cell_type": "code",
   "execution_count": 16,
   "id": "1e624c69-8dd4-40c0-915a-d3f92f1b6fd2",
   "metadata": {},
   "outputs": [
    {
     "name": "stdout",
     "output_type": "stream",
     "text": [
      "   customer_id  order_count\n",
      "0            1            1\n"
     ]
    }
   ],
   "source": [
    "import pandas as pd\n",
    "from sqlalchemy import create_engine\n",
    "\n",
    "engine = create_engine('mysql+pymysql://root:@localhost/bikeshahd')\n",
    "\n",
    "# SQL query to find customers who placed the most orders in June and November 2018\n",
    "query = \"\"\"\n",
    "    SELECT orders.customer_id, COUNT(orders.order_id) AS order_count\n",
    "    FROM orders\n",
    "    WHERE (MONTH(orders.order_date) = 6 OR MONTH(orders.order_date) = 11)\n",
    "      AND YEAR(orders.order_date) = 2018\n",
    "    GROUP BY orders.customer_id\n",
    "    ORDER BY order_count DESC\n",
    "    LIMIT 1\n",
    "\"\"\"\n",
    "\n",
    "# Execute the query using pandas read_sql\n",
    "top_customer = pd.read_sql(query, engine)\n",
    "\n",
    "# Display the result\n",
    "print(top_customer)\n"
   ]
  },
  {
   "cell_type": "code",
   "execution_count": 7,
   "id": "95bea450-3e9a-48de-85b3-73ceabe044fa",
   "metadata": {},
   "outputs": [
    {
     "name": "stdout",
     "output_type": "stream",
     "text": [
      "   store_id        store_name  total_stock_quantity\n",
      "0         1  Santa Cruz Bikes                4532.0\n",
      "1         2     Baldwin Bikes                4359.0\n",
      "2         3     Rowlett Bikes                4620.0\n"
     ]
    }
   ],
   "source": [
    "import pandas as pd\n",
    "from sqlalchemy import create_engine\n",
    "\n",
    "# Set up the SQLAlchemy engine to connect to the MySQL database\n",
    "engine = create_engine('mysql+pymysql://root:@localhost/bikeshahd')\n",
    "\n",
    "# SQL query to get all stores with their total stock quantities for all products\n",
    "query = \"\"\"\n",
    "    SELECT st.store_id, st.store_name, SUM(stk.quantity) AS total_stock_quantity\n",
    "    FROM stocks stk\n",
    "    JOIN stores st ON stk.store_id = st.store_id\n",
    "    GROUP BY st.store_id, st.store_name;\n",
    "\"\"\"\n",
    "\n",
    "# Execute the query using pandas and SQLAlchemy engine\n",
    "stores_stock = pd.read_sql(query, engine)\n",
    "\n",
    "# Display the result\n",
    "print(stores_stock)\n"
   ]
  },
  {
   "cell_type": "code",
   "execution_count": 13,
   "id": "ece2df30-6e4f-4e18-b206-7437f079c611",
   "metadata": {},
   "outputs": [
    {
     "name": "stdout",
     "output_type": "stream",
     "text": [
      "   store_id        store_name  staff_id  first_name\n",
      "0         1  Santa Cruz Bikes         1     Fabiola\n",
      "1         1  Santa Cruz Bikes         2      Mireya\n",
      "2         1  Santa Cruz Bikes         3       Genna\n",
      "3         1  Santa Cruz Bikes         4      Virgie\n",
      "4         2     Baldwin Bikes         5    Jannette\n",
      "5         2     Baldwin Bikes         6   Marcelene\n",
      "6         2     Baldwin Bikes         7      Venita\n",
      "7         3     Rowlett Bikes         8        Kali\n",
      "8         3     Rowlett Bikes         9       Layla\n",
      "9         3     Rowlett Bikes        10  Bernardine\n"
     ]
    }
   ],
   "source": [
    "import pandas as pd\n",
    "from sqlalchemy import create_engine\n",
    "\n",
    "# Set up the SQLAlchemy engine to connect to the MySQL database\n",
    "engine = create_engine('mysql+pymysql://root:@localhost/bikeshahd')\n",
    "\n",
    "# SQL query to get staff members who work at stores located in California, New York, or Texas\n",
    "query = \"\"\"\n",
    "    SELECT st.store_id, st.store_name, s.staff_id, s.first_name\n",
    "    FROM staffs s\n",
    "    JOIN stores st ON s.store_id = st.store_id\n",
    "    WHERE st.state IN ('CA', 'NY', 'TX');\n",
    "\"\"\"\n",
    "\n",
    "# Execute the query using pandas and SQLAlchemy engine\n",
    "staff_in_stores = pd.read_sql(query, engine)\n",
    "\n",
    "# Display the result\n",
    "print(staff_in_stores)\n"
   ]
  },
  {
   "cell_type": "code",
   "execution_count": 12,
   "id": "81035340-dadc-4d17-9e20-a90be12ec853",
   "metadata": {},
   "outputs": [
    {
     "name": "stdout",
     "output_type": "stream",
     "text": [
      "         category_name  total_revenue\n",
      "0       Mountain Bikes     3030775.71\n",
      "1           Road Bikes     1852555.60\n",
      "2    Cruisers Bicycles     1109151.04\n",
      "3       Electric Bikes     1020236.85\n",
      "4  Cyclocross Bicycles      799874.60\n",
      "5     Comfort Bicycles      438506.87\n",
      "6    Children Bicycles      327888.21\n"
     ]
    }
   ],
   "source": [
    "import pandas as pd\n",
    "from sqlalchemy import create_engine\n",
    "\n",
    "# Set up the SQLAlchemy engine to connect to the MySQL database\n",
    "engine = create_engine('mysql+pymysql://root:@localhost/bikeshahd')\n",
    "\n",
    "# SQL query to identify categories of products with the highest total revenue\n",
    "query = \"\"\"\n",
    "    SELECT c.category_name, SUM(oi.list_price * oi.quantity) AS total_revenue\n",
    "    FROM order_items oi\n",
    "    JOIN products p ON oi.product_id = p.product_id\n",
    "    JOIN categories c ON p.category_id = c.category_id\n",
    "    GROUP BY c.category_name\n",
    "    ORDER BY total_revenue DESC;\n",
    "\"\"\"\n",
    "\n",
    "# Execute the query using pandas and SQLAlchemy engine\n",
    "category_revenue = pd.read_sql(query, engine)\n",
    "\n",
    "# Display the result\n",
    "print(category_revenue)"
   ]
  },
  {
   "cell_type": "code",
   "execution_count": null,
   "id": "28084563-9526-40f8-8488-545690c0538c",
   "metadata": {},
   "outputs": [],
   "source": []
  }
 ],
 "metadata": {
  "kernelspec": {
   "display_name": "Python 3 (ipykernel)",
   "language": "python",
   "name": "python3"
  },
  "language_info": {
   "codemirror_mode": {
    "name": "ipython",
    "version": 3
   },
   "file_extension": ".py",
   "mimetype": "text/x-python",
   "name": "python",
   "nbconvert_exporter": "python",
   "pygments_lexer": "ipython3",
   "version": "3.12.7"
  }
 },
 "nbformat": 4,
 "nbformat_minor": 5
}
