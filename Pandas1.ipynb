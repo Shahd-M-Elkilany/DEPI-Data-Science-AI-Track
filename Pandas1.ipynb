{
 "cells": [
  {
   "cell_type": "code",
   "execution_count": 1,
   "metadata": {},
   "outputs": [
    {
     "name": "stdout",
     "output_type": "stream",
     "text": [
      "      Name  Age        City  Code\n",
      "0    Shahd   22       Cairo  1114\n",
      "1    Nancy   20       Cairo  1325\n",
      "2   Nagham   23  Port Saeed  1987\n",
      "3      Aya   26  Alexandria  1236\n",
      "4      Ali   30        Giza  2345\n",
      "5     Ziad   32    Mansoura  3456\n",
      "6  Mohamed   27    Damietta  4567\n"
     ]
    }
   ],
   "source": [
    "#Create the dataste \n",
    "Data= {'Name':['Shahd','Nancy','Nagham','Aya','Ali','Ziad','Mohamed'],\n",
    "       'Age':[22,20,23,26,30,32,27],\n",
    "       'City':['Cairo','Cairo','Port Saeed','Alexandria','Giza','Mansoura','Damietta'],\n",
    "       'Code':[1114,1325,1987,1236,2345,3456,4567]}\n",
    "#Activate pandas\n",
    "import pandas as pd\n",
    "df = pd.DataFrame(Data)\n",
    "print(df)"
   ]
  },
  {
   "cell_type": "code",
   "execution_count": 2,
   "metadata": {},
   "outputs": [
    {
     "name": "stdout",
     "output_type": "stream",
     "text": [
      "     Name  Age        City  Code\n",
      "0   Shahd   22       Cairo  1114\n",
      "1   Nancy   20       Cairo  1325\n",
      "2  Nagham   23  Port Saeed  1987\n",
      "3     Aya   26  Alexandria  1236\n",
      "4     Ali   30        Giza  2345\n"
     ]
    }
   ],
   "source": [
    "#Create the dataste \n",
    "Data= {'Name':['Shahd','Nancy','Nagham','Aya','Ali','Ziad','Mohamed'],\n",
    "       'Age':[22,20,23,26,30,32,27],\n",
    "       'City':['Cairo','Cairo','Port Saeed','Alexandria','Giza','Mansoura','Damietta'],\n",
    "       'Code':[1114,1325,1987,1236,2345,3456,4567]}\n",
    "#Activate pandas\n",
    "import pandas as pd\n",
    "df = pd.DataFrame(Data)\n",
    "#Viewing the first 5 rows\n",
    "print(df.head())"
   ]
  },
  {
   "cell_type": "code",
   "execution_count": 3,
   "metadata": {},
   "outputs": [
    {
     "name": "stdout",
     "output_type": "stream",
     "text": [
      "<class 'pandas.core.frame.DataFrame'>\n",
      "RangeIndex: 7 entries, 0 to 6\n",
      "Data columns (total 4 columns):\n",
      " #   Column  Non-Null Count  Dtype \n",
      "---  ------  --------------  ----- \n",
      " 0   Name    7 non-null      object\n",
      " 1   Age     7 non-null      int64 \n",
      " 2   City    7 non-null      object\n",
      " 3   Code    7 non-null      int64 \n",
      "dtypes: int64(2), object(2)\n",
      "memory usage: 356.0+ bytes\n",
      "None\n"
     ]
    }
   ],
   "source": [
    "#Create the dataste \n",
    "Data= {'Name':['Shahd','Nancy','Nagham','Aya','Ali','Ziad','Mohamed'],\n",
    "       'Age':[22,20,23,26,30,32,27],\n",
    "       'City':['Cairo','Cairo','Port Saeed','Alexandria','Giza','Mansoura','Damietta'],\n",
    "       'Code':[1114,1325,1987,1236,2345,3456,4567]}\n",
    "#Activate pandas\n",
    "import pandas as pd\n",
    "df = pd.DataFrame(Data)\n",
    "#Getting Data informatio \n",
    "print(df.info())"
   ]
  },
  {
   "cell_type": "code",
   "execution_count": 4,
   "metadata": {},
   "outputs": [
    {
     "name": "stdout",
     "output_type": "stream",
     "text": [
      "             Age         Code\n",
      "count   7.000000     7.000000\n",
      "mean   25.714286  2290.000000\n",
      "std     4.347961  1295.134227\n",
      "min    20.000000  1114.000000\n",
      "25%    22.500000  1280.500000\n",
      "50%    26.000000  1987.000000\n",
      "75%    28.500000  2900.500000\n",
      "max    32.000000  4567.000000\n"
     ]
    }
   ],
   "source": [
    "#Create the dataste \n",
    "Data= {'Name':['Shahd','Nancy','Nagham','Aya','Ali','Ziad','Mohamed'],\n",
    "       'Age':[22,20,23,26,30,32,27],\n",
    "       'City':['Cairo','Cairo','Port Saeed','Alexandria','Giza','Mansoura','Damietta'],\n",
    "       'Code':[1114,1325,1987,1236,2345,3456,4567]}\n",
    "#Activate pandas\n",
    "import pandas as pd\n",
    "df = pd.DataFrame(Data)\n",
    "#Describing Statistical Information\n",
    "print(df.describe())"
   ]
  },
  {
   "cell_type": "code",
   "execution_count": 5,
   "metadata": {},
   "outputs": [
    {
     "name": "stdout",
     "output_type": "stream",
     "text": [
      "0    22\n",
      "1    20\n",
      "2    23\n",
      "3    26\n",
      "4    30\n",
      "5    32\n",
      "6    27\n",
      "Name: Age, dtype: int64\n"
     ]
    }
   ],
   "source": [
    "#Create the dataste \n",
    "Data= {'Name':['Shahd','Nancy','Nagham','Aya','Ali','Ziad','Mohamed'],\n",
    "       'Age':[22,20,23,26,30,32,27],\n",
    "       'City':['Cairo','Cairo','Port Saeed','Alexandria','Giza','Mansoura','Damietta'],\n",
    "       'Code':[1114,1325,1987,1236,2345,3456,4567]}\n",
    "#Activate pandas\n",
    "import pandas as pd\n",
    "df = pd.DataFrame(Data)\n",
    "#Selecting Columns\n",
    "print(df['Age'])"
   ]
  },
  {
   "cell_type": "code",
   "execution_count": 6,
   "metadata": {},
   "outputs": [
    {
     "name": "stdout",
     "output_type": "stream",
     "text": [
      "     Name  Age        City  Code\n",
      "0   Shahd   22       Cairo  1114\n",
      "1   Nancy   20       Cairo  1325\n",
      "2  Nagham   23  Port Saeed  1987\n"
     ]
    }
   ],
   "source": [
    "#Create the dataste \n",
    "Data= {'Name':['Shahd','Nancy','Nagham','Aya','Ali','Ziad','Mohamed'],\n",
    "       'Age':[22,20,23,26,30,32,27],\n",
    "       'City':['Cairo','Cairo','Port Saeed','Alexandria','Giza','Mansoura','Damietta'],\n",
    "       'Code':[1114,1325,1987,1236,2345,3456,4567]}\n",
    "#Activate pandas\n",
    "import pandas as pd\n",
    "df = pd.DataFrame(Data)\n",
    "#Filtering Rows Based on Condition\n",
    "Filtered_df=df[df['Age']<25]\n",
    "print(Filtered_df)"
   ]
  },
  {
   "cell_type": "code",
   "execution_count": 7,
   "metadata": {},
   "outputs": [
    {
     "name": "stdout",
     "output_type": "stream",
     "text": [
      "    Name  Age   City  Code\n",
      "0  Shahd   22  Cairo  1114\n",
      "1  Nancy   20  Cairo  1325\n"
     ]
    }
   ],
   "source": [
    "#Create the dataste \n",
    "Data= {'Name':['Shahd','Nancy','Nagham','Aya','Ali','Ziad','Mohamed'],\n",
    "       'Age':[22,20,23,26,30,32,27],\n",
    "       'City':['Cairo','Cairo','Port Saeed','Alexandria','Giza','Mansoura','Damietta'],\n",
    "       'Code':[1114,1325,1987,1236,2345,3456,4567]}\n",
    "#Activate pandas\n",
    "import pandas as pd\n",
    "df = pd.DataFrame(Data)\n",
    "#Selecting Specific Rows and Columns\n",
    "print(df.loc[0:1,'Name':'Code'])"
   ]
  },
  {
   "cell_type": "code",
   "execution_count": 9,
   "metadata": {},
   "outputs": [
    {
     "name": "stdout",
     "output_type": "stream",
     "text": [
      "    Name  Age   City  Code\n",
      "0  Shahd   22  Cairo  1114\n",
      "1  Nancy   20  Cairo  1325\n"
     ]
    }
   ],
   "source": [
    "#Create the dataste \n",
    "Data= {'Name':['Shahd','Nancy','Nagham','Aya','Ali','Ziad','Mohamed'],\n",
    "       'Age':[22,20,23,26,30,32,27],\n",
    "       'City':['Cairo','Cairo','Port Saeed','Alexandria','Giza','Mansoura','Damietta'],\n",
    "       'Code':[1114,1325,1987,1236,2345,3456,4567]}\n",
    "#Activate pandas\n",
    "import pandas as pd\n",
    "df = pd.DataFrame(Data)\n",
    "#Selecting Specific Rows and Columns\n",
    "print(df.iloc[0:2,0:4])"
   ]
  },
  {
   "cell_type": "code",
   "execution_count": 10,
   "metadata": {},
   "outputs": [
    {
     "name": "stdout",
     "output_type": "stream",
     "text": [
      "      Name  Age        City  Code Department\n",
      "0    Shahd   22       Cairo  1114         Hr\n",
      "1    Nancy   20       Cairo  1325         Hr\n",
      "2   Nagham   23  Port Saeed  1987         IT\n",
      "3      Aya   26  Alexandria  1236    Finance\n",
      "4      Ali   30        Giza  2345    Finance\n",
      "5     Ziad   32    Mansoura  3456        MKT\n",
      "6  Mohamed   27    Damietta  4567         IT\n"
     ]
    }
   ],
   "source": [
    "#Create the dataste \n",
    "Data= {'Name':['Shahd','Nancy','Nagham','Aya','Ali','Ziad','Mohamed'],\n",
    "       'Age':[22,20,23,26,30,32,27],\n",
    "       'City':['Cairo','Cairo','Port Saeed','Alexandria','Giza','Mansoura','Damietta'],\n",
    "       'Code':[1114,1325,1987,1236,2345,3456,4567]}\n",
    "#Activate pandas\n",
    "import pandas as pd\n",
    "df = pd.DataFrame(Data)\n",
    "#Adding a New Column\n",
    "df['Department']=['Hr','Hr','IT','Finance','Finance','MKT','IT']\n",
    "print(df)"
   ]
  },
  {
   "cell_type": "code",
   "execution_count": 12,
   "metadata": {},
   "outputs": [
    {
     "name": "stdout",
     "output_type": "stream",
     "text": [
      "      Name  Age        City  Code Department\n",
      "0    Shahd   22       Cairo  1114         Hr\n",
      "1    Nancy   20       Cairo  1325         Hr\n",
      "2   Nagham   23  Port Saeed  1987         IT\n",
      "3      Aya   26  Alexandria  1236    Finance\n",
      "4      Ali   30        Giza  2345    Finance\n",
      "5     Ziad   32    Mansoura  3456        MKT\n",
      "6  Mohamed   27    Damietta  4567         IT\n",
      "      Name  Age        City  Code Department\n",
      "0    Shahd   23       Cairo  1114         Hr\n",
      "1    Nancy   21       Cairo  1325         Hr\n",
      "2   Nagham   24  Port Saeed  1987         IT\n",
      "3      Aya   27  Alexandria  1236    Finance\n",
      "4      Ali   31        Giza  2345    Finance\n",
      "5     Ziad   33    Mansoura  3456        MKT\n",
      "6  Mohamed   28    Damietta  4567         IT\n"
     ]
    }
   ],
   "source": [
    "#Create the dataste \n",
    "Data= {'Name':['Shahd','Nancy','Nagham','Aya','Ali','Ziad','Mohamed'],\n",
    "       'Age':[22,20,23,26,30,32,27],\n",
    "       'City':['Cairo','Cairo','Port Saeed','Alexandria','Giza','Mansoura','Damietta'],\n",
    "       'Code':[1114,1325,1987,1236,2345,3456,4567]}\n",
    "#Activate pandas\n",
    "import pandas as pd\n",
    "df = pd.DataFrame(Data)\n",
    "#Adding a New Column\n",
    "df['Department']=['Hr','Hr','IT','Finance','Finance','MKT','IT']\n",
    "print(df)\n",
    "#Updating Coloumn Values\n",
    "df['Age']=df['Age']+1\n",
    "print(df)"
   ]
  },
  {
   "cell_type": "code",
   "execution_count": null,
   "metadata": {},
   "outputs": [
    {
     "name": "stdout",
     "output_type": "stream",
     "text": [
      "      Name  Age        City  Code\n",
      "1    Nancy   20       Cairo  1325\n",
      "2   Nagham   23  Port Saeed  1987\n",
      "3      Aya   26  Alexandria  1236\n",
      "4      Ali   30        Giza  2345\n",
      "5     Ziad   32    Mansoura  3456\n",
      "6  Mohamed   27    Damietta  4567\n"
     ]
    }
   ],
   "source": [
    "#Create the dataste \n",
    "Data= {'Name':['Shahd','Nancy','Nagham','Aya','Ali','Ziad','Mohamed'],\n",
    "       'Age':[22,20,23,26,30,32,27],\n",
    "       'City':['Cairo','Cairo','Port Saeed','Alexandria','Giza','Mansoura','Damietta'],\n",
    "       'Code':[1114,1325,1987,1236,2345,3456,4567]}\n",
    "#Activate pandas\n",
    "import pandas as pd\n",
    "df = pd.DataFrame(Data)\n",
    "#Dropping row\n",
    "print(df.drop(0))\n",
    "#the value between the () indicates the raw label & the axis value is on default 0"
   ]
  },
  {
   "cell_type": "code",
   "execution_count": 15,
   "metadata": {},
   "outputs": [
    {
     "name": "stdout",
     "output_type": "stream",
     "text": [
      "      Name  Age        City\n",
      "0    Shahd   22       Cairo\n",
      "1    Nancy   20       Cairo\n",
      "2   Nagham   23  Port Saeed\n",
      "3      Aya   26  Alexandria\n",
      "4      Ali   30        Giza\n",
      "5     Ziad   32    Mansoura\n",
      "6  Mohamed   27    Damietta\n"
     ]
    }
   ],
   "source": [
    "#Create the dataste \n",
    "Data= {'Name':['Shahd','Nancy','Nagham','Aya','Ali','Ziad','Mohamed'],\n",
    "       'Age':[22,20,23,26,30,32,27],\n",
    "       'City':['Cairo','Cairo','Port Saeed','Alexandria','Giza','Mansoura','Damietta'],\n",
    "       'Code':[1114,1325,1987,1236,2345,3456,4567]}\n",
    "#Activate pandas\n",
    "import pandas as pd\n",
    "df = pd.DataFrame(Data)\n",
    "#Dropping row\n",
    "print(df.drop('Code',axis=1))\n",
    "#the value between the () indicates the column label & to drop a cloumn you must add the axis value of 1"
   ]
  },
  {
   "cell_type": "code",
   "execution_count": 18,
   "metadata": {},
   "outputs": [
    {
     "name": "stdout",
     "output_type": "stream",
     "text": [
      "     A    B\n",
      "0  1.0  4.0\n",
      "1  NaN  3.0\n",
      "2  2.0  NaN\n",
      "3  3.0  NaN\n",
      "       A      B\n",
      "0  False  False\n",
      "1   True  False\n",
      "2  False   True\n",
      "3  False   True\n",
      "     A    B\n",
      "0  1.0  4.0\n",
      "1  0.0  3.0\n",
      "2  2.0  0.0\n",
      "3  3.0  0.0\n"
     ]
    }
   ],
   "source": [
    "df_with_nan=pd.DataFrame({'A':[1,None,2,3,],'B':[4,3,None,None]})\n",
    "print(df_with_nan)\n",
    "#Detecting Missing Values\n",
    "print(df_with_nan.isnull())\n",
    "#Filling Missing Values\n",
    "print(df_with_nan.fillna(0))"
   ]
  },
  {
   "cell_type": "code",
   "execution_count": 20,
   "metadata": {},
   "outputs": [
    {
     "name": "stdout",
     "output_type": "stream",
     "text": [
      "     A    B\n",
      "0  1.0  4.0\n",
      "1  NaN  3.0\n",
      "2  2.0  NaN\n",
      "3  3.0  NaN\n",
      "       A      B\n",
      "0  False  False\n",
      "1   True  False\n",
      "2  False   True\n",
      "3  False   True\n",
      "     A    B\n",
      "0  1.0  4.0\n",
      "1  2.0  3.0\n",
      "2  2.0  2.0\n",
      "3  3.0  2.0\n"
     ]
    }
   ],
   "source": [
    "df_with_nan=pd.DataFrame({'A':[1,None,2,3,],'B':[4,3,None,None]})\n",
    "print(df_with_nan)\n",
    "#Detecting Missing Values\n",
    "print(df_with_nan.isnull())\n",
    "#Filling Missing Values\n",
    "print(df_with_nan.fillna(df_with_nan['A'].mean()))"
   ]
  },
  {
   "cell_type": "code",
   "execution_count": 23,
   "metadata": {},
   "outputs": [
    {
     "name": "stdout",
     "output_type": "stream",
     "text": [
      "     A    B\n",
      "0  1.0  4.0\n",
      "1  NaN  3.0\n",
      "2  2.0  NaN\n",
      "3  3.0  NaN\n",
      "       A      B\n",
      "0  False  False\n",
      "1   True  False\n",
      "2  False   True\n",
      "3  False   True\n",
      "     A    B\n",
      "0  1.0  4.0\n"
     ]
    }
   ],
   "source": [
    "df_with_nan=pd.DataFrame({'A':[1,None,2,3,],'B':[4,3,None,None]})\n",
    "print(df_with_nan)\n",
    "#Detecting Missing Values\n",
    "print(df_with_nan.isnull())\n",
    "#Dropping Rows with Missing Values\n",
    "Cleaned_df=df_with_nan.dropna()\n",
    "print(Cleaned_df)"
   ]
  },
  {
   "cell_type": "code",
   "execution_count": 26,
   "metadata": {},
   "outputs": [
    {
     "name": "stdout",
     "output_type": "stream",
     "text": [
      "  Department  Salary\n",
      "0         HR    4500\n",
      "1    Finance    5500\n",
      "2         IT    7000\n",
      "3  Marketing    5200\n",
      "4      Sales    4800\n",
      "0     9000\n",
      "1    11000\n",
      "2    14000\n",
      "3    10400\n",
      "4     9600\n",
      "Name: Double Salary, dtype: int64\n"
     ]
    }
   ],
   "source": [
    "import pandas as pd\n",
    "\n",
    "# Creating a sample DataFrame\n",
    "data = {\n",
    "    'Department': ['HR', 'Finance', 'IT', 'Marketing', 'Sales'],\n",
    "    'Salary': [4500, 5500, 7000, 5200, 4800]\n",
    "}\n",
    "\n",
    "df = pd.DataFrame(data)\n",
    "\n",
    "print(df)\n",
    "#Applying Custom Functions with apply()\n",
    "\n",
    "def Double_Salary (x):\n",
    "   return x*2\n",
    "\n",
    "\n",
    "df['Double Salary']=df['Salary'].apply(Double_Salary)\n",
    "print(df['Double Salary'])"
   ]
  },
  {
   "cell_type": "code",
   "execution_count": 29,
   "metadata": {},
   "outputs": [
    {
     "name": "stdout",
     "output_type": "stream",
     "text": [
      "  Department  Salary\n",
      "0         HR    4500\n",
      "1         HR    5500\n",
      "2         IT    7000\n",
      "3  Marketing    5200\n",
      "4         IT    4800\n",
      "            Salary\n",
      "Department        \n",
      "HR          5000.0\n",
      "IT          5900.0\n",
      "Marketing   5200.0\n"
     ]
    }
   ],
   "source": [
    "import pandas as pd\n",
    "\n",
    "# Creating a sample DataFrame\n",
    "data = {\n",
    "    'Department': ['HR', 'HR', 'IT', 'Marketing', 'IT'],\n",
    "    'Salary': [4500, 5500, 7000, 5200, 4800]\n",
    "}\n",
    "\n",
    "df = pd.DataFrame(data)\n",
    "\n",
    "print(df)\n",
    "grouped =df.groupby('Department').mean()\n",
    "print(grouped)"
   ]
  }
 ],
 "metadata": {
  "kernelspec": {
   "display_name": "Python 3",
   "language": "python",
   "name": "python3"
  },
  "language_info": {
   "codemirror_mode": {
    "name": "ipython",
    "version": 3
   },
   "file_extension": ".py",
   "mimetype": "text/x-python",
   "name": "python",
   "nbconvert_exporter": "python",
   "pygments_lexer": "ipython3",
   "version": "3.12.2"
  }
 },
 "nbformat": 4,
 "nbformat_minor": 2
}
